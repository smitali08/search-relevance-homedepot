{
  "nbformat": 4,
  "nbformat_minor": 0,
  "metadata": {
    "colab": {
      "name": "Phase-1-Basic_EDA.ipynb",
      "provenance": [],
      "collapsed_sections": [
        "9fIkhLGGcYjl",
        "8p02tMFX3LwD",
        "CZMica6PUWSQ",
        "qmxz-JXf7GEH",
        "N2TsGfswZZj3",
        "eSQAxY2sdxjx"
      ]
    },
    "kernelspec": {
      "name": "python3",
      "display_name": "Python 3"
    },
    "language_info": {
      "name": "python"
    }
  },
  "cells": [
    {
      "cell_type": "markdown",
      "metadata": {
        "id": "9fIkhLGGcYjl"
      },
      "source": [
        "# Phase 1 : Basic EDA"
      ]
    },
    {
      "cell_type": "code",
      "metadata": {
        "id": "6ZVakmRrdphF"
      },
      "source": [
        "#importing necessary libraries\n",
        "import pandas as pd\n",
        "import numpy as np\n",
        "import matplotlib.pyplot as plt\n",
        "import seaborn as sns\n",
        "from matplotlib_venn import venn3\n",
        "from matplotlib_venn import venn2"
      ],
      "execution_count": null,
      "outputs": []
    },
    {
      "cell_type": "markdown",
      "metadata": {
        "id": "8p02tMFX3LwD"
      },
      "source": [
        "## train.csv:"
      ]
    },
    {
      "cell_type": "code",
      "metadata": {
        "id": "4QzOnDkUdN90"
      },
      "source": [
        "train = pd.read_csv('/content/train.csv', encoding='latin-1')"
      ],
      "execution_count": null,
      "outputs": []
    },
    {
      "cell_type": "code",
      "metadata": {
        "colab": {
          "base_uri": "https://localhost:8080/",
          "height": 206
        },
        "id": "UghXUrVhVXR7",
        "outputId": "dbb866a0-a0ce-48bb-9978-010beb2ca231"
      },
      "source": [
        "train.head()"
      ],
      "execution_count": null,
      "outputs": [
        {
          "output_type": "execute_result",
          "data": {
            "text/html": [
              "<div>\n",
              "<style scoped>\n",
              "    .dataframe tbody tr th:only-of-type {\n",
              "        vertical-align: middle;\n",
              "    }\n",
              "\n",
              "    .dataframe tbody tr th {\n",
              "        vertical-align: top;\n",
              "    }\n",
              "\n",
              "    .dataframe thead th {\n",
              "        text-align: right;\n",
              "    }\n",
              "</style>\n",
              "<table border=\"1\" class=\"dataframe\">\n",
              "  <thead>\n",
              "    <tr style=\"text-align: right;\">\n",
              "      <th></th>\n",
              "      <th>id</th>\n",
              "      <th>product_uid</th>\n",
              "      <th>product_title</th>\n",
              "      <th>search_term</th>\n",
              "      <th>relevance</th>\n",
              "    </tr>\n",
              "  </thead>\n",
              "  <tbody>\n",
              "    <tr>\n",
              "      <th>0</th>\n",
              "      <td>2</td>\n",
              "      <td>100001</td>\n",
              "      <td>Simpson Strong-Tie 12-Gauge Angle</td>\n",
              "      <td>angle bracket</td>\n",
              "      <td>3.00</td>\n",
              "    </tr>\n",
              "    <tr>\n",
              "      <th>1</th>\n",
              "      <td>3</td>\n",
              "      <td>100001</td>\n",
              "      <td>Simpson Strong-Tie 12-Gauge Angle</td>\n",
              "      <td>l bracket</td>\n",
              "      <td>2.50</td>\n",
              "    </tr>\n",
              "    <tr>\n",
              "      <th>2</th>\n",
              "      <td>9</td>\n",
              "      <td>100002</td>\n",
              "      <td>BEHR Premium Textured DeckOver 1-gal. #SC-141 ...</td>\n",
              "      <td>deck over</td>\n",
              "      <td>3.00</td>\n",
              "    </tr>\n",
              "    <tr>\n",
              "      <th>3</th>\n",
              "      <td>16</td>\n",
              "      <td>100005</td>\n",
              "      <td>Delta Vero 1-Handle Shower Only Faucet Trim Ki...</td>\n",
              "      <td>rain shower head</td>\n",
              "      <td>2.33</td>\n",
              "    </tr>\n",
              "    <tr>\n",
              "      <th>4</th>\n",
              "      <td>17</td>\n",
              "      <td>100005</td>\n",
              "      <td>Delta Vero 1-Handle Shower Only Faucet Trim Ki...</td>\n",
              "      <td>shower only faucet</td>\n",
              "      <td>2.67</td>\n",
              "    </tr>\n",
              "  </tbody>\n",
              "</table>\n",
              "</div>"
            ],
            "text/plain": [
              "   id  product_uid  ...         search_term relevance\n",
              "0   2       100001  ...       angle bracket      3.00\n",
              "1   3       100001  ...           l bracket      2.50\n",
              "2   9       100002  ...           deck over      3.00\n",
              "3  16       100005  ...    rain shower head      2.33\n",
              "4  17       100005  ...  shower only faucet      2.67\n",
              "\n",
              "[5 rows x 5 columns]"
            ]
          },
          "metadata": {},
          "execution_count": 9
        }
      ]
    },
    {
      "cell_type": "code",
      "metadata": {
        "colab": {
          "base_uri": "https://localhost:8080/"
        },
        "id": "qRp5MT0BxiU3",
        "outputId": "a9b9d2ef-b813-4ad8-8de0-51e52ddafdbb"
      },
      "source": [
        "#np. of rows and columns in train.csv\n",
        "train.shape"
      ],
      "execution_count": null,
      "outputs": [
        {
          "output_type": "execute_result",
          "data": {
            "text/plain": [
              "(74067, 5)"
            ]
          },
          "metadata": {},
          "execution_count": 10
        }
      ]
    },
    {
      "cell_type": "code",
      "metadata": {
        "colab": {
          "base_uri": "https://localhost:8080/"
        },
        "id": "iieUk0PfpBzz",
        "outputId": "e592cfe5-c765-4004-f579-9ca36b644f4f"
      },
      "source": [
        "#No. of unique search/product pairs\n",
        "train.id.nunique()"
      ],
      "execution_count": null,
      "outputs": [
        {
          "output_type": "execute_result",
          "data": {
            "text/plain": [
              "74067"
            ]
          },
          "metadata": {},
          "execution_count": 11
        }
      ]
    },
    {
      "cell_type": "code",
      "metadata": {
        "colab": {
          "base_uri": "https://localhost:8080/"
        },
        "id": "yfJ8P1IepBxN",
        "outputId": "1bb61848-f2a9-467a-89fd-0976094a4b03"
      },
      "source": [
        "#checking if any duplicate rows are present\n",
        "train.duplicated().sum()"
      ],
      "execution_count": null,
      "outputs": [
        {
          "output_type": "execute_result",
          "data": {
            "text/plain": [
              "0"
            ]
          },
          "metadata": {},
          "execution_count": 12
        }
      ]
    },
    {
      "cell_type": "code",
      "metadata": {
        "colab": {
          "base_uri": "https://localhost:8080/"
        },
        "id": "OSx2MwNQpBuX",
        "outputId": "58af13bd-8e42-4f2a-e4ef-5434e0bbb633"
      },
      "source": [
        "# checking for missing values\n",
        "train.isna().sum()"
      ],
      "execution_count": null,
      "outputs": [
        {
          "output_type": "execute_result",
          "data": {
            "text/plain": [
              "id               0\n",
              "product_uid      0\n",
              "product_title    0\n",
              "search_term      0\n",
              "relevance        0\n",
              "dtype: int64"
            ]
          },
          "metadata": {},
          "execution_count": 13
        }
      ]
    },
    {
      "cell_type": "markdown",
      "metadata": {
        "id": "jwe4rTkujLMT"
      },
      "source": [
        "Observation:\n",
        "- All the rows are unqiue search-product pairs.\n",
        "- No duplicate rows.\n",
        "- There are no missing values in train data."
      ]
    },
    {
      "cell_type": "markdown",
      "metadata": {
        "id": "1l9om8pMqsV0"
      },
      "source": [
        "\n",
        "Relevance:"
      ]
    },
    {
      "cell_type": "code",
      "metadata": {
        "colab": {
          "base_uri": "https://localhost:8080/",
          "height": 386
        },
        "id": "AURNACQzqrmu",
        "outputId": "db937cf2-8a6c-4a77-c711-d8be652ddeeb"
      },
      "source": [
        "#distribution of relevance score\n",
        "sns.displot(train['relevance'], kde = True)"
      ],
      "execution_count": null,
      "outputs": [
        {
          "output_type": "execute_result",
          "data": {
            "text/plain": [
              "<seaborn.axisgrid.FacetGrid at 0x7ff1632ccb10>"
            ]
          },
          "metadata": {},
          "execution_count": 14
        },
        {
          "output_type": "display_data",
          "data": {
            "image/png": "[encoded data removed]",
            "text/plain": [
              "<Figure size 360x360 with 1 Axes>"
            ]
          },
          "metadata": {
            "needs_background": "light"
          }
        }
      ]
    },
    {
      "cell_type": "code",
      "metadata": {
        "colab": {
          "base_uri": "https://localhost:8080/"
        },
        "id": "kW9yXoJ7Zsup",
        "outputId": "af2d0830-733b-47e8-fb04-566f476383b1"
      },
      "source": [
        "#no. of products having relevance score >2\n",
        "len(train[train['relevance']>2])"
      ],
      "execution_count": null,
      "outputs": [
        {
          "output_type": "execute_result",
          "data": {
            "text/plain": [
              "50428"
            ]
          },
          "metadata": {},
          "execution_count": 16
        }
      ]
    },
    {
      "cell_type": "markdown",
      "metadata": {
        "id": "Jp5Ygg_4u7QF"
      },
      "source": [
        "Product_uid:\n",
        "\n",
        "\n"
      ]
    },
    {
      "cell_type": "code",
      "metadata": {
        "colab": {
          "base_uri": "https://localhost:8080/"
        },
        "id": "GoqKtvlOpBo2",
        "outputId": "03e8a24b-7d77-477e-f646-5dca971a4192"
      },
      "source": [
        "#No. of unique products in train data\n",
        "train.product_uid.nunique()"
      ],
      "execution_count": null,
      "outputs": [
        {
          "output_type": "execute_result",
          "data": {
            "text/plain": [
              "54667"
            ]
          },
          "metadata": {},
          "execution_count": 17
        }
      ]
    },
    {
      "cell_type": "markdown",
      "metadata": {
        "id": "ezWr-U7aB7nm"
      },
      "source": [
        "Search_term: "
      ]
    },
    {
      "cell_type": "code",
      "metadata": {
        "colab": {
          "base_uri": "https://localhost:8080/"
        },
        "id": "l7uDmcy2zOC-",
        "outputId": "b4d561c8-527e-47f2-ed3a-13ee8d2b2031"
      },
      "source": [
        "#No. of unique search terms in train data\n",
        "train.search_term.nunique()"
      ],
      "execution_count": null,
      "outputs": [
        {
          "output_type": "execute_result",
          "data": {
            "text/plain": [
              "11795"
            ]
          },
          "metadata": {},
          "execution_count": 83
        }
      ]
    },
    {
      "cell_type": "markdown",
      "metadata": {
        "id": "399X8FuwkzHc"
      },
      "source": [
        "Observation:\n",
        "- Most of the search/product (50k) pairs  in the train data have high relevance score >2.\n",
        "- Total number of unique products in train - 54667 which means products are repeating with different search terms.\n",
        "- Only 11795 search terms are unique."
      ]
    },
    {
      "cell_type": "markdown",
      "metadata": {
        "id": "CZMica6PUWSQ"
      },
      "source": [
        "## test data.csv :"
      ]
    },
    {
      "cell_type": "code",
      "metadata": {
        "id": "j_RfL6todQlR"
      },
      "source": [
        "test = pd.read_csv('/content/test.csv', encoding='latin-1')"
      ],
      "execution_count": null,
      "outputs": []
    },
    {
      "cell_type": "code",
      "metadata": {
        "colab": {
          "base_uri": "https://localhost:8080/",
          "height": 206
        },
        "id": "lIndjMaUxhig",
        "outputId": "b0f53558-478c-4052-e57c-f986080cf839"
      },
      "source": [
        "test.head()"
      ],
      "execution_count": null,
      "outputs": [
        {
          "output_type": "execute_result",
          "data": {
            "text/html": [
              "<div>\n",
              "<style scoped>\n",
              "    .dataframe tbody tr th:only-of-type {\n",
              "        vertical-align: middle;\n",
              "    }\n",
              "\n",
              "    .dataframe tbody tr th {\n",
              "        vertical-align: top;\n",
              "    }\n",
              "\n",
              "    .dataframe thead th {\n",
              "        text-align: right;\n",
              "    }\n",
              "</style>\n",
              "<table border=\"1\" class=\"dataframe\">\n",
              "  <thead>\n",
              "    <tr style=\"text-align: right;\">\n",
              "      <th></th>\n",
              "      <th>id</th>\n",
              "      <th>product_uid</th>\n",
              "      <th>product_title</th>\n",
              "      <th>search_term</th>\n",
              "    </tr>\n",
              "  </thead>\n",
              "  <tbody>\n",
              "    <tr>\n",
              "      <th>0</th>\n",
              "      <td>1</td>\n",
              "      <td>100001</td>\n",
              "      <td>Simpson Strong-Tie 12-Gauge Angle</td>\n",
              "      <td>90 degree bracket</td>\n",
              "    </tr>\n",
              "    <tr>\n",
              "      <th>1</th>\n",
              "      <td>4</td>\n",
              "      <td>100001</td>\n",
              "      <td>Simpson Strong-Tie 12-Gauge Angle</td>\n",
              "      <td>metal l brackets</td>\n",
              "    </tr>\n",
              "    <tr>\n",
              "      <th>2</th>\n",
              "      <td>5</td>\n",
              "      <td>100001</td>\n",
              "      <td>Simpson Strong-Tie 12-Gauge Angle</td>\n",
              "      <td>simpson sku able</td>\n",
              "    </tr>\n",
              "    <tr>\n",
              "      <th>3</th>\n",
              "      <td>6</td>\n",
              "      <td>100001</td>\n",
              "      <td>Simpson Strong-Tie 12-Gauge Angle</td>\n",
              "      <td>simpson strong  ties</td>\n",
              "    </tr>\n",
              "    <tr>\n",
              "      <th>4</th>\n",
              "      <td>7</td>\n",
              "      <td>100001</td>\n",
              "      <td>Simpson Strong-Tie 12-Gauge Angle</td>\n",
              "      <td>simpson strong tie hcc668</td>\n",
              "    </tr>\n",
              "  </tbody>\n",
              "</table>\n",
              "</div>"
            ],
            "text/plain": [
              "   id  ...                search_term\n",
              "0   1  ...          90 degree bracket\n",
              "1   4  ...           metal l brackets\n",
              "2   5  ...           simpson sku able\n",
              "3   6  ...       simpson strong  ties\n",
              "4   7  ...  simpson strong tie hcc668\n",
              "\n",
              "[5 rows x 4 columns]"
            ]
          },
          "metadata": {},
          "execution_count": 107
        }
      ]
    },
    {
      "cell_type": "code",
      "metadata": {
        "colab": {
          "base_uri": "https://localhost:8080/"
        },
        "id": "BOX8Yd4PxiDu",
        "outputId": "db42aaaa-dd18-4e72-a7b6-01147a44abc3"
      },
      "source": [
        "test.shape"
      ],
      "execution_count": null,
      "outputs": [
        {
          "output_type": "execute_result",
          "data": {
            "text/plain": [
              "(166693, 4)"
            ]
          },
          "metadata": {},
          "execution_count": 108
        }
      ]
    },
    {
      "cell_type": "code",
      "metadata": {
        "colab": {
          "base_uri": "https://localhost:8080/"
        },
        "id": "O3b1psXTV-2D",
        "outputId": "00a1011b-118a-409b-bd29-b17405a16536"
      },
      "source": [
        "#checking for duplicate rows\n",
        "test.duplicated().sum()"
      ],
      "execution_count": null,
      "outputs": [
        {
          "output_type": "execute_result",
          "data": {
            "text/plain": [
              "0"
            ]
          },
          "metadata": {},
          "execution_count": 112
        }
      ]
    },
    {
      "cell_type": "code",
      "metadata": {
        "colab": {
          "base_uri": "https://localhost:8080/"
        },
        "id": "8pp4VWPb9Wpg",
        "outputId": "e60889c3-ffe2-4bc4-fd76-6b31a79d8f92"
      },
      "source": [
        "# missing values\n",
        "test.isna().sum()"
      ],
      "execution_count": null,
      "outputs": [
        {
          "output_type": "execute_result",
          "data": {
            "text/plain": [
              "id               0\n",
              "product_uid      0\n",
              "product_title    0\n",
              "search_term      0\n",
              "dtype: int64"
            ]
          },
          "metadata": {},
          "execution_count": 119
        }
      ]
    },
    {
      "cell_type": "markdown",
      "metadata": {
        "id": "zEBPsKtAlSg0"
      },
      "source": [
        "Observation:\n",
        "- There aren't any duplicate ids. Hence, we have a total of 166693 unique search/product pairs in test data.\n",
        "- no missing values in test data"
      ]
    },
    {
      "cell_type": "markdown",
      "metadata": {
        "id": "4TFO1uhC75eJ"
      },
      "source": [
        "** Checking for intersection in train and test datasets: **\n",
        "--\n",
        "\n"
      ]
    },
    {
      "cell_type": "markdown",
      "metadata": {
        "id": "QfjHTtAi80Mx"
      },
      "source": [
        "1. id: "
      ]
    },
    {
      "cell_type": "code",
      "metadata": {
        "colab": {
          "base_uri": "https://localhost:8080/",
          "height": 224
        },
        "id": "XxvwB7Dn_say",
        "outputId": "fdc15ed5-41ee-4c66-f9ab-d529784e1bf0"
      },
      "source": [
        "#https://stackoverflow.com/questions/19841535/python-matplotlib-venn-diagram\n",
        "train_id = set(train['id'].values)\n",
        "test_id = set(test['id'].values)\n",
        "\n",
        "\n",
        "\n",
        "venn2([train_id, test_id], ('train id', 'test id'))\n",
        "plt.title('Train and Test set differences of ids')\n",
        "plt.show()"
      ],
      "execution_count": null,
      "outputs": [
        {
          "output_type": "display_data",
          "data": {
            "image/png": "[encoded data removed]",
            "text/plain": [
              "<Figure size 432x288 with 1 Axes>"
            ]
          },
          "metadata": {}
        }
      ]
    },
    {
      "cell_type": "markdown",
      "metadata": {
        "id": "PM7IRasCWj1y"
      },
      "source": [
        "-  All the test ids are different than train ids (i.e. we don't have common search-product pairs in train and test datasets."
      ]
    },
    {
      "cell_type": "code",
      "metadata": {
        "colab": {
          "base_uri": "https://localhost:8080/"
        },
        "id": "-rAA5kg6Xs_L",
        "outputId": "80fe2076-f043-4eda-c533-65f218240a53"
      },
      "source": [
        "#checking for unique ids\n",
        "test.id.nunique()"
      ],
      "execution_count": null,
      "outputs": [
        {
          "output_type": "execute_result",
          "data": {
            "text/plain": [
              "166693"
            ]
          },
          "metadata": {},
          "execution_count": 13
        }
      ]
    },
    {
      "cell_type": "markdown",
      "metadata": {
        "id": "6OKe0_uE81zt"
      },
      "source": [
        "2. product_uid:\n"
      ]
    },
    {
      "cell_type": "code",
      "metadata": {
        "colab": {
          "base_uri": "https://localhost:8080/",
          "height": 267
        },
        "id": "t8cmSiyI--Q6",
        "outputId": "fe0dba1d-bf65-4111-b566-ecb04c8f6d1b"
      },
      "source": [
        "from matplotlib_venn import venn2\n",
        "\n",
        "#https://stackoverflow.com/questions/19841535/python-matplotlib-venn-diagram\n",
        "train_products = set(train['product_uid'].values)\n",
        "test_products = set(test['product_uid'].values)\n",
        "\n",
        "\n",
        "\n",
        "venn2([train_products, test_products], ('train products', 'test products'))\n",
        "plt.title('Train and Test set differences of products')\n",
        "plt.show()"
      ],
      "execution_count": null,
      "outputs": [
        {
          "output_type": "display_data",
          "data": {
            "image/png": "[encoded data removed]",
            "text/plain": [
              "<Figure size 432x288 with 1 Axes>"
            ]
          },
          "metadata": {}
        }
      ]
    },
    {
      "cell_type": "markdown",
      "metadata": {
        "id": "mS7l9jMQWpLJ"
      },
      "source": [
        "- Around 27k products of the train data (almost 50%) are present in the test data which take up almost 28.4% of the test data.\n"
      ]
    },
    {
      "cell_type": "code",
      "metadata": {
        "colab": {
          "base_uri": "https://localhost:8080/"
        },
        "id": "TZzmbeWpEFlr",
        "outputId": "a0c5b5a3-3191-4c03-be2e-6962be365f53"
      },
      "source": [
        "#no. of unique products in test data\n",
        "test.product_uid.nunique()"
      ],
      "execution_count": null,
      "outputs": [
        {
          "output_type": "execute_result",
          "data": {
            "text/plain": [
              "97460"
            ]
          },
          "metadata": {},
          "execution_count": 135
        }
      ]
    },
    {
      "cell_type": "markdown",
      "metadata": {
        "id": "2YhKj4qYA-mJ"
      },
      "source": [
        "3. search_term:"
      ]
    },
    {
      "cell_type": "code",
      "metadata": {
        "colab": {
          "base_uri": "https://localhost:8080/",
          "height": 268
        },
        "id": "Bvo2-IVtAn8m",
        "outputId": "e4675202-a818-4d39-af70-06018227cea3"
      },
      "source": [
        "#https://stackoverflow.com/questions/19841535/python-matplotlib-venn-diagram\n",
        "train_search_term = set(train['search_term'].values)\n",
        "test_search_term = set(test['search_term'].values)\n",
        "\n",
        "\n",
        "\n",
        "venn2([train_search_term, test_search_term], ('train search_term', 'test search_term'))\n",
        "plt.title('Train and Test set differences of search terms')\n",
        "plt.show()"
      ],
      "execution_count": null,
      "outputs": [
        {
          "output_type": "display_data",
          "data": {
            "image/png": "[encoded data removed]",
            "text/plain": [
              "<Figure size 432x288 with 1 Axes>"
            ]
          },
          "metadata": {}
        }
      ]
    },
    {
      "cell_type": "markdown",
      "metadata": {
        "id": "oCtbdi38XAcA"
      },
      "source": [
        "-  Around 9621 search terms of the train data(81.5%) are present in the test data which take up almost 42.8% of the test data."
      ]
    },
    {
      "cell_type": "code",
      "metadata": {
        "colab": {
          "base_uri": "https://localhost:8080/"
        },
        "id": "Zxafn-unGFGK",
        "outputId": "62122fa2-6080-4710-e945-05a6e0bc1b19"
      },
      "source": [
        "#no. of unique search terms in test data\n",
        "test.search_term.nunique()"
      ],
      "execution_count": null,
      "outputs": [
        {
          "output_type": "execute_result",
          "data": {
            "text/plain": [
              "22427"
            ]
          },
          "metadata": {},
          "execution_count": 170
        }
      ]
    },
    {
      "cell_type": "markdown",
      "metadata": {
        "id": "qmxz-JXf7GEH"
      },
      "source": [
        "## product_description.csv :"
      ]
    },
    {
      "cell_type": "code",
      "metadata": {
        "id": "1x46l96kdT1L"
      },
      "source": [
        "product_descriptions = pd.read_csv('product_descriptions.csv')"
      ],
      "execution_count": null,
      "outputs": []
    },
    {
      "cell_type": "code",
      "metadata": {
        "colab": {
          "base_uri": "https://localhost:8080/",
          "height": 206
        },
        "id": "BQGfIMAS3XAk",
        "outputId": "9b70c084-15b8-4e01-9e8c-cd5887fc9c1d"
      },
      "source": [
        "product_descriptions.head()"
      ],
      "execution_count": null,
      "outputs": [
        {
          "output_type": "execute_result",
          "data": {
            "text/html": [
              "<div>\n",
              "<style scoped>\n",
              "    .dataframe tbody tr th:only-of-type {\n",
              "        vertical-align: middle;\n",
              "    }\n",
              "\n",
              "    .dataframe tbody tr th {\n",
              "        vertical-align: top;\n",
              "    }\n",
              "\n",
              "    .dataframe thead th {\n",
              "        text-align: right;\n",
              "    }\n",
              "</style>\n",
              "<table border=\"1\" class=\"dataframe\">\n",
              "  <thead>\n",
              "    <tr style=\"text-align: right;\">\n",
              "      <th></th>\n",
              "      <th>product_uid</th>\n",
              "      <th>product_description</th>\n",
              "    </tr>\n",
              "  </thead>\n",
              "  <tbody>\n",
              "    <tr>\n",
              "      <th>0</th>\n",
              "      <td>100001</td>\n",
              "      <td>Not only do angles make joints stronger, they ...</td>\n",
              "    </tr>\n",
              "    <tr>\n",
              "      <th>1</th>\n",
              "      <td>100002</td>\n",
              "      <td>BEHR Premium Textured DECKOVER is an innovativ...</td>\n",
              "    </tr>\n",
              "    <tr>\n",
              "      <th>2</th>\n",
              "      <td>100003</td>\n",
              "      <td>Classic architecture meets contemporary design...</td>\n",
              "    </tr>\n",
              "    <tr>\n",
              "      <th>3</th>\n",
              "      <td>100004</td>\n",
              "      <td>The Grape Solar 265-Watt Polycrystalline PV So...</td>\n",
              "    </tr>\n",
              "    <tr>\n",
              "      <th>4</th>\n",
              "      <td>100005</td>\n",
              "      <td>Update your bathroom with the Delta Vero Singl...</td>\n",
              "    </tr>\n",
              "  </tbody>\n",
              "</table>\n",
              "</div>"
            ],
            "text/plain": [
              "   product_uid                                product_description\n",
              "0       100001  Not only do angles make joints stronger, they ...\n",
              "1       100002  BEHR Premium Textured DECKOVER is an innovativ...\n",
              "2       100003  Classic architecture meets contemporary design...\n",
              "3       100004  The Grape Solar 265-Watt Polycrystalline PV So...\n",
              "4       100005  Update your bathroom with the Delta Vero Singl..."
            ]
          },
          "metadata": {},
          "execution_count": 184
        }
      ]
    },
    {
      "cell_type": "code",
      "metadata": {
        "colab": {
          "base_uri": "https://localhost:8080/"
        },
        "id": "5i_6UMDgxhgF",
        "outputId": "e49876eb-a10f-4095-9d79-03d54483aafc"
      },
      "source": [
        "#no. of rows and columns\n",
        "product_descriptions.shape"
      ],
      "execution_count": null,
      "outputs": [
        {
          "output_type": "execute_result",
          "data": {
            "text/plain": [
              "(124428, 2)"
            ]
          },
          "metadata": {},
          "execution_count": 183
        }
      ]
    },
    {
      "cell_type": "code",
      "metadata": {
        "colab": {
          "base_uri": "https://localhost:8080/"
        },
        "id": "pePIi7nfZFQ5",
        "outputId": "07bd2e67-b165-4e9a-e787-ad95a3bb9ba1"
      },
      "source": [
        "#all products are unique (no duplicate products)\n",
        "product_descriptions.product_uid.nunique() == product_descriptions.shape[0]"
      ],
      "execution_count": null,
      "outputs": [
        {
          "output_type": "execute_result",
          "data": {
            "text/plain": [
              "True"
            ]
          },
          "metadata": {},
          "execution_count": 196
        }
      ]
    },
    {
      "cell_type": "code",
      "metadata": {
        "colab": {
          "base_uri": "https://localhost:8080/",
          "height": 325
        },
        "id": "4u33UwNJZFQ5",
        "outputId": "b5382364-80d9-4ad5-958d-3f10cb986182"
      },
      "source": [
        "from matplotlib_venn import venn3\n",
        "\n",
        "train_uid = set(train['product_uid'].values)\n",
        "test_uid = set(test['product_uid'].values)\n",
        "desc_uid = set(product_descriptions['product_uid'].values)\n",
        "\n",
        "\n",
        "venn3([train_uid, test_uid, desc_uid], ('train uid', 'test uid', 'desc uid'))\n",
        "plt.title('Train, Test and descriptions set differences of products')\n",
        "plt.show()"
      ],
      "execution_count": null,
      "outputs": [
        {
          "output_type": "stream",
          "name": "stderr",
          "text": [
            "/usr/local/lib/python3.7/dist-packages/matplotlib_venn/_venn3.py:117: UserWarning: Bad circle positioning\n",
            "  warnings.warn(\"Bad circle positioning\")\n"
          ]
        },
        {
          "output_type": "display_data",
          "data": {
            "image/png": "[encoded data removed]",
            "text/plain": [
              "<Figure size 432x288 with 1 Axes>"
            ]
          },
          "metadata": {}
        }
      ]
    },
    {
      "cell_type": "markdown",
      "metadata": {
        "id": "dnNFrWEtZQ_l"
      },
      "source": [
        "- Every product from the train as well as test data has a verbose description."
      ]
    },
    {
      "cell_type": "code",
      "metadata": {
        "colab": {
          "base_uri": "https://localhost:8080/"
        },
        "id": "xnsGkVG3bfxr",
        "outputId": "25e3a0bf-9396-4c83-d208-3cf3d28f8e11"
      },
      "source": [
        "#Missing values\n",
        "product_descriptions.isna().sum()"
      ],
      "execution_count": null,
      "outputs": [
        {
          "output_type": "execute_result",
          "data": {
            "text/plain": [
              "product_uid            0\n",
              "product_description    0\n",
              "dtype: int64"
            ]
          },
          "metadata": {},
          "execution_count": 201
        }
      ]
    },
    {
      "cell_type": "markdown",
      "metadata": {
        "id": "hTaJPy20ZUfa"
      },
      "source": [
        "- No missing values"
      ]
    },
    {
      "cell_type": "markdown",
      "metadata": {
        "id": "N2TsGfswZZj3"
      },
      "source": [
        "##attributes.csv :"
      ]
    },
    {
      "cell_type": "code",
      "metadata": {
        "id": "2t39nxcMdWl5"
      },
      "source": [
        "attributes = pd.read_csv('/content/attributes.csv')"
      ],
      "execution_count": null,
      "outputs": []
    },
    {
      "cell_type": "code",
      "metadata": {
        "colab": {
          "base_uri": "https://localhost:8080/",
          "height": 206
        },
        "id": "Sg8kSnOI3lmq",
        "outputId": "2b55c679-f80b-4bcb-9323-fe740eff69d0"
      },
      "source": [
        "attributes.head()"
      ],
      "execution_count": null,
      "outputs": [
        {
          "output_type": "execute_result",
          "data": {
            "text/html": [
              "<div>\n",
              "<style scoped>\n",
              "    .dataframe tbody tr th:only-of-type {\n",
              "        vertical-align: middle;\n",
              "    }\n",
              "\n",
              "    .dataframe tbody tr th {\n",
              "        vertical-align: top;\n",
              "    }\n",
              "\n",
              "    .dataframe thead th {\n",
              "        text-align: right;\n",
              "    }\n",
              "</style>\n",
              "<table border=\"1\" class=\"dataframe\">\n",
              "  <thead>\n",
              "    <tr style=\"text-align: right;\">\n",
              "      <th></th>\n",
              "      <th>product_uid</th>\n",
              "      <th>name</th>\n",
              "      <th>value</th>\n",
              "    </tr>\n",
              "  </thead>\n",
              "  <tbody>\n",
              "    <tr>\n",
              "      <th>0</th>\n",
              "      <td>100001.0</td>\n",
              "      <td>Bullet01</td>\n",
              "      <td>Versatile connector for various 90° connection...</td>\n",
              "    </tr>\n",
              "    <tr>\n",
              "      <th>1</th>\n",
              "      <td>100001.0</td>\n",
              "      <td>Bullet02</td>\n",
              "      <td>Stronger than angled nailing or screw fastenin...</td>\n",
              "    </tr>\n",
              "    <tr>\n",
              "      <th>2</th>\n",
              "      <td>100001.0</td>\n",
              "      <td>Bullet03</td>\n",
              "      <td>Help ensure joints are consistently straight a...</td>\n",
              "    </tr>\n",
              "    <tr>\n",
              "      <th>3</th>\n",
              "      <td>100001.0</td>\n",
              "      <td>Bullet04</td>\n",
              "      <td>Dimensions: 3 in. x 3 in. x 1-1/2 in.</td>\n",
              "    </tr>\n",
              "    <tr>\n",
              "      <th>4</th>\n",
              "      <td>100001.0</td>\n",
              "      <td>Bullet05</td>\n",
              "      <td>Made from 12-Gauge steel</td>\n",
              "    </tr>\n",
              "  </tbody>\n",
              "</table>\n",
              "</div>"
            ],
            "text/plain": [
              "   product_uid      name                                              value\n",
              "0     100001.0  Bullet01  Versatile connector for various 90° connection...\n",
              "1     100001.0  Bullet02  Stronger than angled nailing or screw fastenin...\n",
              "2     100001.0  Bullet03  Help ensure joints are consistently straight a...\n",
              "3     100001.0  Bullet04              Dimensions: 3 in. x 3 in. x 1-1/2 in.\n",
              "4     100001.0  Bullet05                           Made from 12-Gauge steel"
            ]
          },
          "metadata": {},
          "execution_count": 202
        }
      ]
    },
    {
      "cell_type": "code",
      "metadata": {
        "colab": {
          "base_uri": "https://localhost:8080/"
        },
        "id": "fK6TU3MZ3cMM",
        "outputId": "7d017a2e-244e-4764-eec4-9f44fa1b8605"
      },
      "source": [
        "#no. of rows and columns\n",
        "attributes.shape"
      ],
      "execution_count": null,
      "outputs": [
        {
          "output_type": "execute_result",
          "data": {
            "text/plain": [
              "(2044803, 3)"
            ]
          },
          "metadata": {},
          "execution_count": 203
        }
      ]
    },
    {
      "cell_type": "code",
      "metadata": {
        "colab": {
          "base_uri": "https://localhost:8080/",
          "height": 268
        },
        "id": "dXVzLNNXez6d",
        "outputId": "9c4cda5b-24d9-4101-8e69-925a7094cbf0"
      },
      "source": [
        "#how many products from train data don't have attributes\n",
        "train_uid = set(train['product_uid'].values)\n",
        "attr_uid = set(attr_copy['product_uid'].values)\n",
        "\n",
        "\n",
        "venn2([train_uid, attr_uid], ('train uid', 'attr uid'))\n",
        "plt.title('Train and Attributes set differences of products')\n",
        "plt.show()"
      ],
      "execution_count": null,
      "outputs": [
        {
          "output_type": "display_data",
          "data": {
            "image/png": "[encoded data removed]",
            "text/plain": [
              "<Figure size 432x288 with 1 Axes>"
            ]
          },
          "metadata": {}
        }
      ]
    },
    {
      "cell_type": "markdown",
      "metadata": {
        "id": "xLSr9ZaBnMwR"
      },
      "source": [
        "- 16263 (Around 30%) train products don't have attributes."
      ]
    },
    {
      "cell_type": "code",
      "metadata": {
        "colab": {
          "base_uri": "https://localhost:8080/",
          "height": 269
        },
        "id": "quO6guKNmJwn",
        "outputId": "f161dde0-9b8d-40e9-bdac-b72a09b54aeb"
      },
      "source": [
        "#how many products from test data don't have attributes\n",
        "\n",
        "test_uid = set(test['product_uid'].values)\n",
        "attr_uid = set(attributes['product_uid'].values)\n",
        "\n",
        "\n",
        "venn2([test_uid, attr_uid], ('test uid', 'attr uid'))\n",
        "plt.title('Test and Attributes set differences of products')\n",
        "plt.show()"
      ],
      "execution_count": null,
      "outputs": [
        {
          "output_type": "display_data",
          "data": {
            "image/png": "[encoded data removed]",
            "text/plain": [
              "<Figure size 432x288 with 1 Axes>"
            ]
          },
          "metadata": {}
        }
      ]
    },
    {
      "cell_type": "markdown",
      "metadata": {
        "id": "ozMRrGVPoU57"
      },
      "source": [
        "- 24944 (Around 25%) test products don't have attributes."
      ]
    },
    {
      "cell_type": "code",
      "metadata": {
        "colab": {
          "base_uri": "https://localhost:8080/"
        },
        "id": "QPa2e58_oPgq",
        "outputId": "5dffdf45-c012-4236-ae0f-dc7b683653aa"
      },
      "source": [
        "#no. of unique attribute types\n",
        "attributes['name'].nunique()"
      ],
      "execution_count": null,
      "outputs": [
        {
          "output_type": "execute_result",
          "data": {
            "text/plain": [
              "5410"
            ]
          },
          "metadata": {},
          "execution_count": 232
        }
      ]
    },
    {
      "cell_type": "markdown",
      "metadata": {
        "id": "0rWbgcDbpp4A"
      },
      "source": [
        "- There are 5410 different types of attributes."
      ]
    },
    {
      "cell_type": "code",
      "metadata": {
        "colab": {
          "base_uri": "https://localhost:8080/"
        },
        "id": "XvtFKUm2aUbg",
        "outputId": "349ecace-188c-4826-e5f8-81805f6c0021"
      },
      "source": [
        "#missing values\n",
        "attributes.isna().sum()"
      ],
      "execution_count": null,
      "outputs": [
        {
          "output_type": "execute_result",
          "data": {
            "text/plain": [
              "product_uid     155\n",
              "name            155\n",
              "value          2284\n",
              "dtype: int64"
            ]
          },
          "metadata": {},
          "execution_count": 15
        }
      ]
    },
    {
      "cell_type": "code",
      "metadata": {
        "id": "vRCkXzUwsSpr"
      },
      "source": [
        "# Dropping the rows where all columns are nan\n",
        "attr_copy = attributes.copy()\n",
        "attr_copy.dropna(how = 'all',inplace= True)"
      ],
      "execution_count": null,
      "outputs": []
    },
    {
      "cell_type": "markdown",
      "metadata": {
        "id": "uWfJYwj0sI2V"
      },
      "source": [
        "- Dropped 155 rows because all values were missing"
      ]
    },
    {
      "cell_type": "code",
      "metadata": {
        "colab": {
          "base_uri": "https://localhost:8080/"
        },
        "id": "W1ZCwmLHsD3X",
        "outputId": "73a1816f-c84d-43a2-c59a-ebb319b67d81"
      },
      "source": [
        "#checking the updated data's missing values\n",
        "attr_copy[attr_copy.isnull().any(axis=1)].isna().sum()"
      ],
      "execution_count": null,
      "outputs": [
        {
          "output_type": "execute_result",
          "data": {
            "text/plain": [
              "product_uid       0\n",
              "name              0\n",
              "value          2129\n",
              "dtype: int64"
            ]
          },
          "metadata": {},
          "execution_count": 19
        }
      ]
    },
    {
      "cell_type": "markdown",
      "metadata": {
        "id": "JHQrFRtQbTu2"
      },
      "source": [
        "- 2129 attribute values are missing.\n",
        "\n",
        "\n",
        "\n",
        "\n"
      ]
    }
  ]
}