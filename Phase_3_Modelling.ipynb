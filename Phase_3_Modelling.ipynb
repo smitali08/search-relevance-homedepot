{
  "cells": [
    {
      "cell_type": "code",
      "source": [
        "import pandas as pd \n",
        "import numpy as np\n",
        "import math\n",
        "from sklearn.feature_extraction.text import TfidfVectorizer\n",
        "from sklearn.metrics import mean_squared_error\n",
        "from sklearn.model_selection import train_test_split\n",
        "import matplotlib.pyplot as plt\n",
        "from sklearn.linear_model import Ridge, Lasso, ElasticNet\n",
        "from xgboost import XGBRegressor\n",
        "from scipy.sparse import hstack\n",
        "from sklearn.preprocessing import StandardScaler\n",
        "from sklearn.metrics import mean_squared_error\n",
        "from sklearn.svm import SVR\n",
        "from sklearn.tree import DecisionTreeRegressor\n",
        "from sklearn.ensemble import RandomForestRegressor\n",
        "from sklearn.ensemble import GradientBoostingRegressor\n",
        "import xgboost as xgb\n"
      ],
      "metadata": {
        "id": "KSEUg3ltn7aw"
      },
      "execution_count": 17,
      "outputs": []
    },
    {
      "cell_type": "markdown",
      "source": [
        "# Feature set 1:\n",
        " tf-idf features"
      ],
      "metadata": {
        "id": "aVbPssCvUqyq"
      }
    },
    {
      "cell_type": "code",
      "source": [
        "train_data = pd.read_csv('/content/drive/MyDrive/Thesis data/train_clean',index_col=0 )\n",
        "test_data = pd.read_csv('/content/drive/MyDrive/Thesis data/test_clean',index_col=0)"
      ],
      "metadata": {
        "id": "2fSd5rj2VfQH"
      },
      "execution_count": null,
      "outputs": []
    },
    {
      "cell_type": "code",
      "source": [
        "train_data.head()"
      ],
      "metadata": {
        "colab": {
          "base_uri": "https://localhost:8080/",
          "height": 337
        },
        "id": "NVaXR8yl89J9",
        "outputId": "54700819-4ce9-49ae-d561-f3e225e3e7ed"
      },
      "execution_count": null,
      "outputs": [
        {
          "output_type": "execute_result",
          "data": {
            "text/html": [
              "\n",
              "  <div id=\"df-58344f65-4146-48db-aecb-610cf285ce03\">\n",
              "    <div class=\"colab-df-container\">\n",
              "      <div>\n",
              "<style scoped>\n",
              "    .dataframe tbody tr th:only-of-type {\n",
              "        vertical-align: middle;\n",
              "    }\n",
              "\n",
              "    .dataframe tbody tr th {\n",
              "        vertical-align: top;\n",
              "    }\n",
              "\n",
              "    .dataframe thead th {\n",
              "        text-align: right;\n",
              "    }\n",
              "</style>\n",
              "<table border=\"1\" class=\"dataframe\">\n",
              "  <thead>\n",
              "    <tr style=\"text-align: right;\">\n",
              "      <th></th>\n",
              "      <th>product_uid</th>\n",
              "      <th>product_title</th>\n",
              "      <th>relevance</th>\n",
              "      <th>product_description</th>\n",
              "      <th>Brand</th>\n",
              "      <th>search_term_corrected</th>\n",
              "      <th>relevance_binary</th>\n",
              "    </tr>\n",
              "  </thead>\n",
              "  <tbody>\n",
              "    <tr>\n",
              "      <th>0</th>\n",
              "      <td>100001</td>\n",
              "      <td>simpson strong tie 12 gaug angl</td>\n",
              "      <td>3.00</td>\n",
              "      <td>angl make joint stronger also provid consist s...</td>\n",
              "      <td>simpson strong tie</td>\n",
              "      <td>angl bracket</td>\n",
              "      <td>high</td>\n",
              "    </tr>\n",
              "    <tr>\n",
              "      <th>1</th>\n",
              "      <td>100001</td>\n",
              "      <td>simpson strong tie 12 gaug angl</td>\n",
              "      <td>2.50</td>\n",
              "      <td>angl make joint stronger also provid consist s...</td>\n",
              "      <td>simpson strong tie</td>\n",
              "      <td>l bracket</td>\n",
              "      <td>high</td>\n",
              "    </tr>\n",
              "    <tr>\n",
              "      <th>2</th>\n",
              "      <td>100002</td>\n",
              "      <td>behr premium textur deck 1 gallon sc 141 tugbo...</td>\n",
              "      <td>3.00</td>\n",
              "      <td>behr premium textur deckov innov solid color c...</td>\n",
              "      <td>behr premium textur deck</td>\n",
              "      <td>deck</td>\n",
              "      <td>high</td>\n",
              "    </tr>\n",
              "    <tr>\n",
              "      <th>3</th>\n",
              "      <td>100005</td>\n",
              "      <td>delta vero 1 handl shower faucet trim kit chro...</td>\n",
              "      <td>2.33</td>\n",
              "      <td>updat bathroom delta vero singl handl shower f...</td>\n",
              "      <td>delta</td>\n",
              "      <td>rain shower head</td>\n",
              "      <td>high</td>\n",
              "    </tr>\n",
              "    <tr>\n",
              "      <th>4</th>\n",
              "      <td>100005</td>\n",
              "      <td>delta vero 1 handl shower faucet trim kit chro...</td>\n",
              "      <td>2.67</td>\n",
              "      <td>updat bathroom delta vero singl handl shower f...</td>\n",
              "      <td>delta</td>\n",
              "      <td>shower faucet</td>\n",
              "      <td>high</td>\n",
              "    </tr>\n",
              "  </tbody>\n",
              "</table>\n",
              "</div>\n",
              "      <button class=\"colab-df-convert\" onclick=\"convertToInteractive('df-58344f65-4146-48db-aecb-610cf285ce03')\"\n",
              "              title=\"Convert this dataframe to an interactive table.\"\n",
              "              style=\"display:none;\">\n",
              "        \n",
              "  <svg xmlns=\"http://www.w3.org/2000/svg\" height=\"24px\"viewBox=\"0 0 24 24\"\n",
              "       width=\"24px\">\n",
              "    <path d=\"M0 0h24v24H0V0z\" fill=\"none\"/>\n",
              "    <path d=\"M18.56 5.44l.94 2.06.94-2.06 2.06-.94-2.06-.94-.94-2.06-.94 2.06-2.06.94zm-11 1L8.5 8.5l.94-2.06 2.06-.94-2.06-.94L8.5 2.5l-.94 2.06-2.06.94zm10 10l.94 2.06.94-2.06 2.06-.94-2.06-.94-.94-2.06-.94 2.06-2.06.94z\"/><path d=\"M17.41 7.96l-1.37-1.37c-.4-.4-.92-.59-1.43-.59-.52 0-1.04.2-1.43.59L10.3 9.45l-7.72 7.72c-.78.78-.78 2.05 0 2.83L4 21.41c.39.39.9.59 1.41.59.51 0 1.02-.2 1.41-.59l7.78-7.78 2.81-2.81c.8-.78.8-2.07 0-2.86zM5.41 20L4 18.59l7.72-7.72 1.47 1.35L5.41 20z\"/>\n",
              "  </svg>\n",
              "      </button>\n",
              "      \n",
              "  <style>\n",
              "    .colab-df-container {\n",
              "      display:flex;\n",
              "      flex-wrap:wrap;\n",
              "      gap: 12px;\n",
              "    }\n",
              "\n",
              "    .colab-df-convert {\n",
              "      background-color: #E8F0FE;\n",
              "      border: none;\n",
              "      border-radius: 50%;\n",
              "      cursor: pointer;\n",
              "      display: none;\n",
              "      fill: #1967D2;\n",
              "      height: 32px;\n",
              "      padding: 0 0 0 0;\n",
              "      width: 32px;\n",
              "    }\n",
              "\n",
              "    .colab-df-convert:hover {\n",
              "      background-color: #E2EBFA;\n",
              "      box-shadow: 0px 1px 2px rgba(60, 64, 67, 0.3), 0px 1px 3px 1px rgba(60, 64, 67, 0.15);\n",
              "      fill: #174EA6;\n",
              "    }\n",
              "\n",
              "    [theme=dark] .colab-df-convert {\n",
              "      background-color: #3B4455;\n",
              "      fill: #D2E3FC;\n",
              "    }\n",
              "\n",
              "    [theme=dark] .colab-df-convert:hover {\n",
              "      background-color: #434B5C;\n",
              "      box-shadow: 0px 1px 3px 1px rgba(0, 0, 0, 0.15);\n",
              "      filter: drop-shadow(0px 1px 2px rgba(0, 0, 0, 0.3));\n",
              "      fill: #FFFFFF;\n",
              "    }\n",
              "  </style>\n",
              "\n",
              "      <script>\n",
              "        const buttonEl =\n",
              "          document.querySelector('#df-58344f65-4146-48db-aecb-610cf285ce03 button.colab-df-convert');\n",
              "        buttonEl.style.display =\n",
              "          google.colab.kernel.accessAllowed ? 'block' : 'none';\n",
              "\n",
              "        async function convertToInteractive(key) {\n",
              "          const element = document.querySelector('#df-58344f65-4146-48db-aecb-610cf285ce03');\n",
              "          const dataTable =\n",
              "            await google.colab.kernel.invokeFunction('convertToInteractive',\n",
              "                                                     [key], {});\n",
              "          if (!dataTable) return;\n",
              "\n",
              "          const docLinkHtml = 'Like what you see? Visit the ' +\n",
              "            '<a target=\"_blank\" href=https://colab.research.google.com/notebooks/data_table.ipynb>data table notebook</a>'\n",
              "            + ' to learn more about interactive tables.';\n",
              "          element.innerHTML = '';\n",
              "          dataTable['output_type'] = 'display_data';\n",
              "          await google.colab.output.renderOutput(dataTable, element);\n",
              "          const docLink = document.createElement('div');\n",
              "          docLink.innerHTML = docLinkHtml;\n",
              "          element.appendChild(docLink);\n",
              "        }\n",
              "      </script>\n",
              "    </div>\n",
              "  </div>\n",
              "  "
            ],
            "text/plain": [
              "   product_uid  ... relevance_binary\n",
              "0       100001  ...             high\n",
              "1       100001  ...             high\n",
              "2       100002  ...             high\n",
              "3       100005  ...             high\n",
              "4       100005  ...             high\n",
              "\n",
              "[5 rows x 7 columns]"
            ]
          },
          "metadata": {},
          "execution_count": 10
        }
      ]
    },
    {
      "cell_type": "markdown",
      "metadata": {
        "id": "ZajcnNkB8v-W"
      },
      "source": [
        "    - Splitting train dataset : 80 - 20."
      ]
    },
    {
      "cell_type": "code",
      "execution_count": null,
      "metadata": {
        "id": "YMvWMEuv8v-W"
      },
      "outputs": [],
      "source": [
        "y = train_data['relevance']\n",
        "X = train_data.drop(['relevance','relevance_binary'],axis = 1)"
      ]
    },
    {
      "cell_type": "code",
      "execution_count": null,
      "metadata": {
        "colab": {
          "base_uri": "https://localhost:8080/"
        },
        "outputId": "215555fb-b0e4-45e8-8b88-a57e9d157048",
        "id": "MrE6NNBL8v-W"
      },
      "outputs": [
        {
          "output_type": "stream",
          "name": "stdout",
          "text": [
            "X_train (59237, 5)\n",
            "X_test (14810, 5)\n"
          ]
        }
      ],
      "source": [
        "#splitting the train data into 80% train 20% test.\n",
        "X_train, X_test, y_train, y_test = train_test_split(X, y, test_size=0.2, stratify=y)\n",
        "print('X_train',X_train.shape)\n",
        "print('X_test',X_test.shape)"
      ]
    },
    {
      "cell_type": "code",
      "execution_count": null,
      "metadata": {
        "id": "vAzG2OxM31Q4"
      },
      "outputs": [],
      "source": [
        "# search term vectorization\n",
        "#considering only the top 1000 unigrams\n",
        "tfidf_model_S = TfidfVectorizer(max_features=1000)\n",
        "#fitting the tfidf vectorizer on search term\n",
        "tfidf_model_S.fit(X_train['search_term_corrected'].astype('U'))\n",
        "# getting the tfidf vectors for search\n",
        "tfidf_S = tfidf_model_S.transform(X_train['search_term_corrected']) #train\n",
        "tfidf_S_test = tfidf_model_S.transform(X_test['search_term_corrected']) #test"
      ]
    },
    {
      "cell_type": "code",
      "source": [
        "# document vectorization\n",
        "doc = X_train['product_title'].astype('U') + ' ' + X_train['product_description'].astype('U') + ' ' + X_train['Brand'].astype('U')\n",
        "doc_test = X_test['product_title'].astype('U') + ' ' + X_test['product_description'].astype('U') + ' ' + X_test['Brand'].astype('U')\n",
        "#considering only the top 1000 unigrams\n",
        "tfidf_model_D = TfidfVectorizer(max_features=1000)\n",
        "#fitting the tfidf vectorizer on doc\n",
        "tfidf_model_D.fit(doc)\n",
        "# getting the tfidf vectors for doc\n",
        "tfidf_D = tfidf_model_D.transform(doc) #train\n",
        "tfidf_D_test = tfidf_model_D.transform(doc_test) #test"
      ],
      "metadata": {
        "id": "RWZ1LA0wXCPM"
      },
      "execution_count": null,
      "outputs": []
    },
    {
      "cell_type": "code",
      "source": [
        "print('search term tfidf shapes:')\n",
        "print('train data shape -',tfidf_S.shape)\n",
        "print('test data shape -',tfidf_S_test.shape)\n",
        "print('*'*100)\n",
        "\n",
        "print('doc tfidf shapes:')\n",
        "print('train data shape -',tfidf_D.shape)\n",
        "print('test data shape -',tfidf_D_test.shape)\n"
      ],
      "metadata": {
        "colab": {
          "base_uri": "https://localhost:8080/"
        },
        "id": "D2KuTIy-UEeY",
        "outputId": "33df2698-fcab-45d8-a033-eb23aba12ea1"
      },
      "execution_count": null,
      "outputs": [
        {
          "output_type": "stream",
          "name": "stdout",
          "text": [
            "search term tfidf shapes:\n",
            "train data shape - (59237, 1000)\n",
            "test data shape - (14810, 1000)\n",
            "****************************************************************************************************\n",
            "doc tfidf shapes:\n",
            "train data shape - (59237, 1000)\n",
            "test data shape - (14810, 1000)\n"
          ]
        }
      ]
    },
    {
      "cell_type": "code",
      "source": [
        "#combining all the tf-idf features\n",
        "train_1 = hstack((tfidf_S,tfidf_D)).tocsr()\n",
        "test_1 = hstack((tfidf_S_test,tfidf_D_test)).tocsr()\n",
        "print(train_1.shape)\n",
        "print(test_1.shape)"
      ],
      "metadata": {
        "colab": {
          "base_uri": "https://localhost:8080/"
        },
        "id": "RQNrC25XUEaZ",
        "outputId": "49a68311-f4d0-46f3-e6e8-b0791e5ab5dc"
      },
      "execution_count": null,
      "outputs": [
        {
          "output_type": "stream",
          "name": "stdout",
          "text": [
            "(59237, 2000)\n",
            "(14810, 2000)\n"
          ]
        }
      ]
    },
    {
      "cell_type": "markdown",
      "source": [
        "1. Linear models: (Lasso, Ridge)"
      ],
      "metadata": {
        "id": "r6SqX8Jp8JOA"
      }
    },
    {
      "cell_type": "markdown",
      "metadata": {
        "id": "sx1QAdGP8ejM"
      },
      "source": [
        "- Standardising the dataset."
      ]
    },
    {
      "cell_type": "code",
      "execution_count": null,
      "metadata": {
        "id": "F-DoK10-8ejN"
      },
      "outputs": [],
      "source": [
        "#Standardisation\n",
        "scaler = StandardScaler(with_mean= False).fit(train_1)\n",
        "\n",
        "X_train_std = scaler.transform(train_1)\n",
        "X_test_std = scaler.transform(test_1)"
      ]
    },
    {
      "cell_type": "markdown",
      "metadata": {
        "id": "9KEEliEo8ejN"
      },
      "source": [
        "1. 1 Linear regression + L1 (model 1)(Lasso)"
      ]
    },
    {
      "cell_type": "code",
      "execution_count": null,
      "metadata": {
        "colab": {
          "base_uri": "https://localhost:8080/"
        },
        "outputId": "2534d2c7-52d2-4c2d-835b-41338c9a4447",
        "id": "P7aOXMO28ejN"
      },
      "outputs": [
        {
          "output_type": "stream",
          "name": "stdout",
          "text": [
            "train rmse : 0.5338251612961014\n",
            "test rmse : 0.5338602656330315\n"
          ]
        }
      ],
      "source": [
        "#Lasso\n",
        "F1_1 = Lasso().fit(X_train_std,y_train)\n",
        "\n",
        "#checking the rmse on test data\n",
        "train_rmse_1 = mean_squared_error(y_train, F1_1.predict(X_train_std), squared=False)\n",
        "test_rmse_1 = mean_squared_error(y_test, F1_1.predict(X_test_std), squared=False)\n",
        "print ('train rmse :', train_rmse_1)\n",
        "print ('test rmse :', test_rmse_1)"
      ]
    },
    {
      "cell_type": "markdown",
      "metadata": {
        "id": "T_ySI9An8ejO"
      },
      "source": [
        "1. 2 Linear regression + L2 (model 2)"
      ]
    },
    {
      "cell_type": "code",
      "execution_count": null,
      "metadata": {
        "colab": {
          "base_uri": "https://localhost:8080/"
        },
        "outputId": "87f97d93-76df-4a35-b22d-d165bea738a1",
        "id": "2ku7LslA8ejO"
      },
      "outputs": [
        {
          "output_type": "stream",
          "name": "stdout",
          "text": [
            "train rmse : 0.4969591012388932\n",
            "test rmse : 0.5186812249442627\n"
          ]
        }
      ],
      "source": [
        "#Ridge\n",
        "F1_2 = Ridge().fit(X_train_std,y_train)\n",
        "\n",
        "#checking the rmse on test data\n",
        "train_rmse_2 = mean_squared_error(y_train, F1_2.predict(X_train_std), squared=False)\n",
        "test_rmse_2 = mean_squared_error(y_test, F1_2.predict(X_test_std), squared=False)\n",
        "print ('train rmse :', train_rmse_2)\n",
        "print ('test rmse :', test_rmse_2)"
      ]
    },
    {
      "cell_type": "markdown",
      "source": [
        "1.3 XGBOOST:"
      ],
      "metadata": {
        "id": "0_xXX0iz-gGa"
      }
    },
    {
      "cell_type": "code",
      "source": [
        "%%time\n",
        "#Xgboost\n",
        "F1_3 = XGBRegressor(objective = 'reg:squarederror').fit(train_1,y_train)\n",
        "  \n",
        "#checking the rmse on test data\n",
        "train_rmse_3 = mean_squared_error(y_train, F1_3.predict(train_1), squared=False)\n",
        "test_rmse_3 = mean_squared_error(y_test, F1_3.predict(test_1), squared=False)\n",
        "print ('train rmse :', train_rmse_3)\n",
        "print ('test rmse :', test_rmse_3)"
      ],
      "metadata": {
        "colab": {
          "base_uri": "https://localhost:8080/"
        },
        "id": "qIAsCLm18F_G",
        "outputId": "fe878b63-da1b-4c1b-8ad2-e728541454d5"
      },
      "execution_count": null,
      "outputs": [
        {
          "output_type": "stream",
          "name": "stdout",
          "text": [
            "train rmse : 0.5194938403127367\n",
            "test rmse : 0.5258548903408254\n",
            "CPU times: user 42.1 s, sys: 180 ms, total: 42.3 s\n",
            "Wall time: 42.2 s\n"
          ]
        }
      ]
    },
    {
      "cell_type": "markdown",
      "source": [
        "- Using the tf-idf vectorizer , the results are not that satisfactory.\n",
        "-  This might be because both classes have similar unigrams and bigrams distribution.\n"
      ],
      "metadata": {
        "id": "4BfAkHBa_yCA"
      }
    },
    {
      "cell_type": "markdown",
      "source": [
        "#Feature set 2:\n",
        "12 basic features + tfidf cosine features"
      ],
      "metadata": {
        "id": "eI28ahpjAPJl"
      }
    },
    {
      "cell_type": "code",
      "source": [
        "train_2 = pd.read_csv('/content/drive/MyDrive/Thesis data/train_updated')\n",
        "train_2.drop(['Unnamed: 0','relevance_binary'],axis = 1, inplace= True)\n",
        "# test_0 = pd.read_csv('/content/drive/MyDrive/Thesis data/test_updated')\n",
        "# test_0.drop(['Unnamed: 0','tfidf_cos_sim_S_T','tfidf_cos_sim_S_D'],axis = 1, inplace= True)\n",
        "train_2.columns"
      ],
      "metadata": {
        "colab": {
          "base_uri": "https://localhost:8080/",
          "height": 0
        },
        "id": "EGh91PSjUFW3",
        "outputId": "51ce374e-dbbd-44b9-803a-acae5ed5cf3b"
      },
      "execution_count": 15,
      "outputs": [
        {
          "output_type": "execute_result",
          "data": {
            "text/plain": [
              "Index(['relevance', 'len_search', 'len_desc', 'len_title', 'len_brand',\n",
              "       'common_S_T', 'common_S_D', 'last_in_title', 'last_in_desc',\n",
              "       'last_in_brand', 'ratio_title', 'ratio_desc', 'ratio_brand',\n",
              "       'tfidf_cos_sim_S_T', 'tfidf_cos_sim_S_D'],\n",
              "      dtype='object')"
            ]
          },
          "metadata": {},
          "execution_count": 15
        }
      ]
    },
    {
      "cell_type": "code",
      "source": [
        "train_2.head()"
      ],
      "metadata": {
        "colab": {
          "base_uri": "https://localhost:8080/",
          "height": 270
        },
        "id": "9aJG_An3ozvQ",
        "outputId": "db700805-dd9d-4dc1-a1d4-c93ee91da689"
      },
      "execution_count": 16,
      "outputs": [
        {
          "output_type": "execute_result",
          "data": {
            "text/html": [
              "\n",
              "  <div id=\"df-53a20ae8-4f07-4807-84ad-a42c53d25bc8\">\n",
              "    <div class=\"colab-df-container\">\n",
              "      <div>\n",
              "<style scoped>\n",
              "    .dataframe tbody tr th:only-of-type {\n",
              "        vertical-align: middle;\n",
              "    }\n",
              "\n",
              "    .dataframe tbody tr th {\n",
              "        vertical-align: top;\n",
              "    }\n",
              "\n",
              "    .dataframe thead th {\n",
              "        text-align: right;\n",
              "    }\n",
              "</style>\n",
              "<table border=\"1\" class=\"dataframe\">\n",
              "  <thead>\n",
              "    <tr style=\"text-align: right;\">\n",
              "      <th></th>\n",
              "      <th>relevance</th>\n",
              "      <th>len_search</th>\n",
              "      <th>len_desc</th>\n",
              "      <th>len_title</th>\n",
              "      <th>len_brand</th>\n",
              "      <th>common_S_T</th>\n",
              "      <th>common_S_D</th>\n",
              "      <th>last_in_title</th>\n",
              "      <th>last_in_desc</th>\n",
              "      <th>last_in_brand</th>\n",
              "      <th>ratio_title</th>\n",
              "      <th>ratio_desc</th>\n",
              "      <th>ratio_brand</th>\n",
              "      <th>tfidf_cos_sim_S_T</th>\n",
              "      <th>tfidf_cos_sim_S_D</th>\n",
              "    </tr>\n",
              "  </thead>\n",
              "  <tbody>\n",
              "    <tr>\n",
              "      <th>0</th>\n",
              "      <td>3.00</td>\n",
              "      <td>2</td>\n",
              "      <td>98</td>\n",
              "      <td>6</td>\n",
              "      <td>3</td>\n",
              "      <td>1</td>\n",
              "      <td>1</td>\n",
              "      <td>0</td>\n",
              "      <td>0</td>\n",
              "      <td>0</td>\n",
              "      <td>0.500000</td>\n",
              "      <td>0.500000</td>\n",
              "      <td>0.0</td>\n",
              "      <td>0.323711</td>\n",
              "      <td>0.219918</td>\n",
              "    </tr>\n",
              "    <tr>\n",
              "      <th>1</th>\n",
              "      <td>2.50</td>\n",
              "      <td>2</td>\n",
              "      <td>98</td>\n",
              "      <td>6</td>\n",
              "      <td>3</td>\n",
              "      <td>0</td>\n",
              "      <td>0</td>\n",
              "      <td>0</td>\n",
              "      <td>0</td>\n",
              "      <td>0</td>\n",
              "      <td>0.000000</td>\n",
              "      <td>0.000000</td>\n",
              "      <td>0.0</td>\n",
              "      <td>0.000000</td>\n",
              "      <td>0.000000</td>\n",
              "    </tr>\n",
              "    <tr>\n",
              "      <th>2</th>\n",
              "      <td>3.00</td>\n",
              "      <td>1</td>\n",
              "      <td>127</td>\n",
              "      <td>12</td>\n",
              "      <td>4</td>\n",
              "      <td>1</td>\n",
              "      <td>1</td>\n",
              "      <td>1</td>\n",
              "      <td>1</td>\n",
              "      <td>1</td>\n",
              "      <td>1.000000</td>\n",
              "      <td>1.000000</td>\n",
              "      <td>1.0</td>\n",
              "      <td>0.317344</td>\n",
              "      <td>0.244167</td>\n",
              "    </tr>\n",
              "    <tr>\n",
              "      <th>3</th>\n",
              "      <td>2.33</td>\n",
              "      <td>3</td>\n",
              "      <td>77</td>\n",
              "      <td>11</td>\n",
              "      <td>1</td>\n",
              "      <td>1</td>\n",
              "      <td>1</td>\n",
              "      <td>0</td>\n",
              "      <td>0</td>\n",
              "      <td>0</td>\n",
              "      <td>0.333333</td>\n",
              "      <td>0.333333</td>\n",
              "      <td>0.0</td>\n",
              "      <td>0.195644</td>\n",
              "      <td>0.067670</td>\n",
              "    </tr>\n",
              "    <tr>\n",
              "      <th>4</th>\n",
              "      <td>2.67</td>\n",
              "      <td>2</td>\n",
              "      <td>77</td>\n",
              "      <td>11</td>\n",
              "      <td>1</td>\n",
              "      <td>2</td>\n",
              "      <td>2</td>\n",
              "      <td>1</td>\n",
              "      <td>1</td>\n",
              "      <td>0</td>\n",
              "      <td>1.000000</td>\n",
              "      <td>1.000000</td>\n",
              "      <td>0.0</td>\n",
              "      <td>0.492489</td>\n",
              "      <td>0.170345</td>\n",
              "    </tr>\n",
              "  </tbody>\n",
              "</table>\n",
              "</div>\n",
              "      <button class=\"colab-df-convert\" onclick=\"convertToInteractive('df-53a20ae8-4f07-4807-84ad-a42c53d25bc8')\"\n",
              "              title=\"Convert this dataframe to an interactive table.\"\n",
              "              style=\"display:none;\">\n",
              "        \n",
              "  <svg xmlns=\"http://www.w3.org/2000/svg\" height=\"24px\"viewBox=\"0 0 24 24\"\n",
              "       width=\"24px\">\n",
              "    <path d=\"M0 0h24v24H0V0z\" fill=\"none\"/>\n",
              "    <path d=\"M18.56 5.44l.94 2.06.94-2.06 2.06-.94-2.06-.94-.94-2.06-.94 2.06-2.06.94zm-11 1L8.5 8.5l.94-2.06 2.06-.94-2.06-.94L8.5 2.5l-.94 2.06-2.06.94zm10 10l.94 2.06.94-2.06 2.06-.94-2.06-.94-.94-2.06-.94 2.06-2.06.94z\"/><path d=\"M17.41 7.96l-1.37-1.37c-.4-.4-.92-.59-1.43-.59-.52 0-1.04.2-1.43.59L10.3 9.45l-7.72 7.72c-.78.78-.78 2.05 0 2.83L4 21.41c.39.39.9.59 1.41.59.51 0 1.02-.2 1.41-.59l7.78-7.78 2.81-2.81c.8-.78.8-2.07 0-2.86zM5.41 20L4 18.59l7.72-7.72 1.47 1.35L5.41 20z\"/>\n",
              "  </svg>\n",
              "      </button>\n",
              "      \n",
              "  <style>\n",
              "    .colab-df-container {\n",
              "      display:flex;\n",
              "      flex-wrap:wrap;\n",
              "      gap: 12px;\n",
              "    }\n",
              "\n",
              "    .colab-df-convert {\n",
              "      background-color: #E8F0FE;\n",
              "      border: none;\n",
              "      border-radius: 50%;\n",
              "      cursor: pointer;\n",
              "      display: none;\n",
              "      fill: #1967D2;\n",
              "      height: 32px;\n",
              "      padding: 0 0 0 0;\n",
              "      width: 32px;\n",
              "    }\n",
              "\n",
              "    .colab-df-convert:hover {\n",
              "      background-color: #E2EBFA;\n",
              "      box-shadow: 0px 1px 2px rgba(60, 64, 67, 0.3), 0px 1px 3px 1px rgba(60, 64, 67, 0.15);\n",
              "      fill: #174EA6;\n",
              "    }\n",
              "\n",
              "    [theme=dark] .colab-df-convert {\n",
              "      background-color: #3B4455;\n",
              "      fill: #D2E3FC;\n",
              "    }\n",
              "\n",
              "    [theme=dark] .colab-df-convert:hover {\n",
              "      background-color: #434B5C;\n",
              "      box-shadow: 0px 1px 3px 1px rgba(0, 0, 0, 0.15);\n",
              "      filter: drop-shadow(0px 1px 2px rgba(0, 0, 0, 0.3));\n",
              "      fill: #FFFFFF;\n",
              "    }\n",
              "  </style>\n",
              "\n",
              "      <script>\n",
              "        const buttonEl =\n",
              "          document.querySelector('#df-53a20ae8-4f07-4807-84ad-a42c53d25bc8 button.colab-df-convert');\n",
              "        buttonEl.style.display =\n",
              "          google.colab.kernel.accessAllowed ? 'block' : 'none';\n",
              "\n",
              "        async function convertToInteractive(key) {\n",
              "          const element = document.querySelector('#df-53a20ae8-4f07-4807-84ad-a42c53d25bc8');\n",
              "          const dataTable =\n",
              "            await google.colab.kernel.invokeFunction('convertToInteractive',\n",
              "                                                     [key], {});\n",
              "          if (!dataTable) return;\n",
              "\n",
              "          const docLinkHtml = 'Like what you see? Visit the ' +\n",
              "            '<a target=\"_blank\" href=https://colab.research.google.com/notebooks/data_table.ipynb>data table notebook</a>'\n",
              "            + ' to learn more about interactive tables.';\n",
              "          element.innerHTML = '';\n",
              "          dataTable['output_type'] = 'display_data';\n",
              "          await google.colab.output.renderOutput(dataTable, element);\n",
              "          const docLink = document.createElement('div');\n",
              "          docLink.innerHTML = docLinkHtml;\n",
              "          element.appendChild(docLink);\n",
              "        }\n",
              "      </script>\n",
              "    </div>\n",
              "  </div>\n",
              "  "
            ],
            "text/plain": [
              "   relevance  len_search  ...  tfidf_cos_sim_S_T  tfidf_cos_sim_S_D\n",
              "0       3.00           2  ...           0.323711           0.219918\n",
              "1       2.50           2  ...           0.000000           0.000000\n",
              "2       3.00           1  ...           0.317344           0.244167\n",
              "3       2.33           3  ...           0.195644           0.067670\n",
              "4       2.67           2  ...           0.492489           0.170345\n",
              "\n",
              "[5 rows x 15 columns]"
            ]
          },
          "metadata": {},
          "execution_count": 16
        }
      ]
    },
    {
      "cell_type": "code",
      "execution_count": null,
      "metadata": {
        "colab": {
          "base_uri": "https://localhost:8080/"
        },
        "id": "7bw1dwuaU0Jl",
        "outputId": "21de5861-bf99-48ba-8022-c81a91bd1080"
      },
      "outputs": [
        {
          "output_type": "stream",
          "name": "stdout",
          "text": [
            "shape of the train data (74047, 15)\n"
          ]
        }
      ],
      "source": [
        "print('shape of the train data', train_2.shape)"
      ]
    },
    {
      "cell_type": "markdown",
      "metadata": {
        "id": "dsIWHOk3JPaw"
      },
      "source": [
        "    - Splitting train dataset : 80 - 20."
      ]
    },
    {
      "cell_type": "code",
      "execution_count": null,
      "metadata": {
        "id": "4fZIRQpBJ89I"
      },
      "outputs": [],
      "source": [
        "y = train_2['relevance']\n",
        "X = train_2.drop('relevance',axis = 1)"
      ]
    },
    {
      "cell_type": "code",
      "execution_count": null,
      "metadata": {
        "colab": {
          "base_uri": "https://localhost:8080/"
        },
        "id": "HT-_S-MVJZKf",
        "outputId": "a3d0934d-e8ef-4a5c-b03f-5f5c3022aa14"
      },
      "outputs": [
        {
          "output_type": "stream",
          "name": "stdout",
          "text": [
            "X_train (59237, 14)\n",
            "X_test (14810, 14)\n"
          ]
        }
      ],
      "source": [
        "from sklearn.model_selection import train_test_split\n",
        "#splitting the train data into 80% train 20% test.\n",
        "X_train, X_test, y_train, y_test = train_test_split(X, y, test_size=0.2, stratify = y)\n",
        "print('X_train',X_train.shape)\n",
        "print('X_test',X_test.shape)"
      ]
    },
    {
      "cell_type": "markdown",
      "metadata": {
        "id": "aoL3y_h6LKoc"
      },
      "source": [
        "- Standardising the dataset."
      ]
    },
    {
      "cell_type": "code",
      "execution_count": null,
      "metadata": {
        "id": "Ro706UYWLQKk"
      },
      "outputs": [],
      "source": [
        "from sklearn.preprocessing import StandardScaler\n",
        "\n",
        "scaler = StandardScaler().fit(X_train)\n",
        "\n",
        "X_train_std = scaler.transform(X_train)\n",
        "X_test_std = scaler.transform(X_test)"
      ]
    },
    {
      "cell_type": "markdown",
      "metadata": {
        "id": "KeOI4PqvJA30"
      },
      "source": [
        "1.2 Linear regression + L1 (model 1)(Lasso)"
      ]
    },
    {
      "cell_type": "code",
      "execution_count": null,
      "metadata": {
        "colab": {
          "base_uri": "https://localhost:8080/"
        },
        "id": "gQGaw5XZI-yR",
        "outputId": "5f3e8fae-6b74-4381-e58d-3b5133c8c10c"
      },
      "outputs": [
        {
          "output_type": "stream",
          "name": "stdout",
          "text": [
            "train rmse : 0.5338251612961014\n",
            "test rmse : 0.5338602656330315\n"
          ]
        }
      ],
      "source": [
        "#Lasso\n",
        "model_1 = Lasso().fit(X_train_std,y_train)\n",
        "\n",
        "#checking the rmse on test data\n",
        "train_rmse_1 = mean_squared_error(y_train, model_1.predict(X_train_std), squared=False)\n",
        "test_rmse_1 = mean_squared_error(y_test, model_1.predict(X_test_std), squared=False)\n",
        "print ('train rmse :', train_rmse_1)\n",
        "print ('test rmse :', test_rmse_1)"
      ]
    },
    {
      "cell_type": "markdown",
      "metadata": {
        "id": "YDi7E-x8OtR-"
      },
      "source": [
        "1. 2 Linear regression + L2 (model 2)"
      ]
    },
    {
      "cell_type": "code",
      "execution_count": null,
      "metadata": {
        "colab": {
          "base_uri": "https://localhost:8080/"
        },
        "id": "deMk-k_bU9HI",
        "outputId": "926aed6d-b23d-42f3-ed7a-177a9384345b"
      },
      "outputs": [
        {
          "output_type": "stream",
          "name": "stdout",
          "text": [
            "train rmse : 0.48860919894253335\n",
            "test rmse : 0.489909082919918\n"
          ]
        }
      ],
      "source": [
        "#Ridge\n",
        "model_2 = Ridge().fit(X_train_std,y_train)\n",
        "\n",
        "#checking the rmse on test data\n",
        "train_rmse_2 = mean_squared_error(y_train, model_2.predict(X_train_std), squared=False)\n",
        "test_rmse_2 = mean_squared_error(y_test, model_2.predict(X_test_std), squared=False)\n",
        "print ('train rmse :', train_rmse_2)\n",
        "print ('test rmse :', test_rmse_2)"
      ]
    },
    {
      "cell_type": "markdown",
      "metadata": {
        "id": "-y9j6TiYPMya"
      },
      "source": [
        "1. 3  Linear regression + ElasticNet (model 3)"
      ]
    },
    {
      "cell_type": "code",
      "execution_count": null,
      "metadata": {
        "colab": {
          "base_uri": "https://localhost:8080/"
        },
        "id": "Xp1RDMfvPKq4",
        "outputId": "be2ca74f-383f-41b6-c362-dc18a5666674"
      },
      "outputs": [
        {
          "output_type": "stream",
          "name": "stdout",
          "text": [
            "train rmse : 0.5338251612961014\n",
            "test rmse : 0.5338602656330315\n"
          ]
        }
      ],
      "source": [
        "#ElasticNet\n",
        "model_3 = ElasticNet().fit(X_train_std,y_train)\n",
        "\n",
        "#checking the rmse on test data\n",
        "train_rmse_3 = mean_squared_error(y_train, model_3.predict(X_train_std), squared=False)\n",
        "test_rmse_3 = mean_squared_error(y_test, model_3.predict(X_test_std), squared=False)\n",
        "print ('train rmse :', train_rmse_3)\n",
        "print ('test rmse :', test_rmse_3)"
      ]
    },
    {
      "cell_type": "markdown",
      "metadata": {
        "id": "6u1batNvP1bg"
      },
      "source": [
        "1. 4  Linear SVR (model 4)"
      ]
    },
    {
      "cell_type": "code",
      "execution_count": null,
      "metadata": {
        "id": "hySIoVbfPgob",
        "colab": {
          "base_uri": "https://localhost:8080/"
        },
        "outputId": "930efec1-c758-4bf4-8473-615c0e4270b9"
      },
      "outputs": [
        {
          "output_type": "stream",
          "name": "stdout",
          "text": [
            "train rmse : 0.4959853811683675\n",
            "test rmse : 0.49738611404257427\n",
            "CPU times: user 13min 10s, sys: 607 ms, total: 13min 11s\n",
            "Wall time: 13min 8s\n"
          ]
        }
      ],
      "source": [
        "%%time\n",
        "model_4 = SVR(kernel = 'linear').fit(X_train_std,y_train)\n",
        "\n",
        "#checking the rmse on test data\n",
        "train_rmse_4 = mean_squared_error(y_train, model_4.predict(X_train_std), squared=False)\n",
        "test_rmse_4 = mean_squared_error(y_test, model_4.predict(X_test_std), squared=False)\n",
        "print ('train rmse :', train_rmse_4)\n",
        "print ('test rmse :', test_rmse_4)"
      ]
    },
    {
      "cell_type": "markdown",
      "metadata": {
        "id": "xqL49r2hSPFK"
      },
      "source": [
        "1. 5  Kernel SVR with rbf kernel (model 5)"
      ]
    },
    {
      "cell_type": "code",
      "execution_count": null,
      "metadata": {
        "colab": {
          "base_uri": "https://localhost:8080/"
        },
        "id": "dLpvjinTQdkJ",
        "outputId": "6f599584-9ae0-4f69-d647-423a2da123d4"
      },
      "outputs": [
        {
          "output_type": "stream",
          "name": "stdout",
          "text": [
            "train rmse : 0.4754734952680981\n",
            "test rmse : 0.4901721493760121\n",
            "CPU times: user 11min 17s, sys: 509 ms, total: 11min 17s\n",
            "Wall time: 11min 15s\n"
          ]
        }
      ],
      "source": [
        "%%time\n",
        "model_5 = SVR(kernel = 'rbf').fit(X_train_std,y_train)\n",
        "\n",
        "#checking the rmse on test data\n",
        "train_rmse_5 = mean_squared_error(y_train, model_5.predict(X_train_std), squared=False)\n",
        "test_rmse_5 = mean_squared_error(y_test, model_5.predict(X_test_std), squared=False)\n",
        "print ('train rmse :', train_rmse_5)\n",
        "print ('test rmse :', test_rmse_5)"
      ]
    },
    {
      "cell_type": "markdown",
      "metadata": {
        "id": "oarMOKwxXFyN"
      },
      "source": [
        "1. 6  Decision Trees regressor (model 6)"
      ]
    },
    {
      "cell_type": "code",
      "execution_count": null,
      "metadata": {
        "colab": {
          "base_uri": "https://localhost:8080/"
        },
        "id": "-o5kVBFCXdiN",
        "outputId": "5cc339d3-0546-4c8f-eb58-ef8b0349ec3e"
      },
      "outputs": [
        {
          "output_type": "stream",
          "name": "stdout",
          "text": [
            "train rmse : 0.09267228482888319\n",
            "test rmse : 0.6676287507656211\n"
          ]
        }
      ],
      "source": [
        "\n",
        "model_6 = DecisionTreeRegressor().fit(X_train,y_train) #using non standarised data here\n",
        "\n",
        "#checking the rmse on test data\n",
        "train_rmse_6 = mean_squared_error(y_train, model_6.predict(X_train), squared=False)\n",
        "test_rmse_6 = mean_squared_error(y_test, model_6.predict(X_test), squared=False)\n",
        "print ('train rmse :', train_rmse_6)\n",
        "print ('test rmse :', test_rmse_6)"
      ]
    },
    {
      "cell_type": "markdown",
      "metadata": {
        "id": "eBoVUpfzXSNH"
      },
      "source": [
        "1. 7  Random forest (model 7)"
      ]
    },
    {
      "cell_type": "code",
      "execution_count": null,
      "metadata": {
        "colab": {
          "base_uri": "https://localhost:8080/"
        },
        "id": "EVA1AYeRXdxG",
        "outputId": "52baec9b-bf11-4ff8-b490-8841a6557f1b"
      },
      "outputs": [
        {
          "output_type": "stream",
          "name": "stdout",
          "text": [
            "train rmse : 0.19979263799786026\n",
            "test rmse : 0.4927473377659281\n",
            "CPU times: user 35.8 s, sys: 49.9 ms, total: 35.8 s\n",
            "Wall time: 35.8 s\n"
          ]
        }
      ],
      "source": [
        "%%time\n",
        "\n",
        "model_7 = RandomForestRegressor().fit(X_train,y_train) #using non standarised data here\n",
        "\n",
        "#checking the rmse on test data\n",
        "train_rmse_7 = mean_squared_error(y_train, model_7.predict(X_train), squared=False)\n",
        "test_rmse_7 = mean_squared_error(y_test, model_7.predict(X_test), squared=False)\n",
        "print ('train rmse :', train_rmse_7)\n",
        "print ('test rmse :', test_rmse_7)"
      ]
    },
    {
      "cell_type": "markdown",
      "metadata": {
        "id": "IegRfc6tXXdr"
      },
      "source": [
        "1.8 GBDT (model 8)"
      ]
    },
    {
      "cell_type": "code",
      "execution_count": null,
      "metadata": {
        "colab": {
          "base_uri": "https://localhost:8080/"
        },
        "id": "niLqG3GOXeZc",
        "outputId": "2512fd39-62d4-475a-c914-022683361668"
      },
      "outputs": [
        {
          "output_type": "stream",
          "name": "stdout",
          "text": [
            "train rmse : 0.47901061126381345\n",
            "test rmse : 0.4821776012533845\n",
            "CPU times: user 9.66 s, sys: 23.9 ms, total: 9.68 s\n",
            "Wall time: 9.67 s\n"
          ]
        }
      ],
      "source": [
        "%%time\n",
        "model_8 = GradientBoostingRegressor().fit(X_train,y_train) #using non standarised data here\n",
        "\n",
        "#checking the rmse on test data\n",
        "train_rmse_8 = mean_squared_error(y_train, model_8.predict(X_train), squared=False)\n",
        "test_rmse_8 = mean_squared_error(y_test, model_8.predict(X_test), squared=False)\n",
        "print ('train rmse :', train_rmse_8)\n",
        "print ('test rmse :', test_rmse_8)"
      ]
    },
    {
      "cell_type": "markdown",
      "metadata": {
        "id": "aGaNA_SDXaYP"
      },
      "source": [
        "1.9 Xgboost (model 9)"
      ]
    },
    {
      "cell_type": "code",
      "execution_count": null,
      "metadata": {
        "colab": {
          "base_uri": "https://localhost:8080/"
        },
        "id": "RFvJp6dnU4Xj",
        "outputId": "dc00df92-10f2-471b-cccd-8e1393b7db25"
      },
      "outputs": [
        {
          "output_type": "stream",
          "name": "stdout",
          "text": [
            "train rmse : 0.478980201238703\n",
            "test rmse : 0.48221916059637404\n",
            "CPU times: user 3.93 s, sys: 15 ms, total: 3.94 s\n",
            "Wall time: 3.93 s\n"
          ]
        }
      ],
      "source": [
        "%%time\n",
        "\n",
        "model_9 = XGBRegressor(objective = 'reg:squarederror').fit(X_train,y_train)\n",
        "  \n",
        "#checking the rmse on test data\n",
        "train_rmse_9 = mean_squared_error(y_train, model_9.predict(X_train), squared=False)\n",
        "test_rmse_9 = mean_squared_error(y_test, model_9.predict(X_test), squared=False)\n",
        "print ('train rmse :', train_rmse_9)\n",
        "print ('test rmse :', test_rmse_9)"
      ]
    },
    {
      "cell_type": "markdown",
      "metadata": {
        "id": "iPScxaQFXfSu"
      },
      "source": [
        "\n",
        "\n",
        "---\n"
      ]
    },
    {
      "cell_type": "code",
      "source": [
        "#summary\n",
        "model_perf = {'model' : ['Lasso','Ridge','ElasticNet','Linear SVR','SVR with rbf kernel','Decision Trees','Random Forest','GBDT','Xgboost'],'Train RMSE':[train_rmse_1,train_rmse_2,train_rmse_3,train_rmse_4,train_rmse_5,train_rmse_6,train_rmse_7,train_rmse_8,train_rmse_9],'Test RMSE':[test_rmse_1,test_rmse_2,test_rmse_3,test_rmse_4,test_rmse_5,test_rmse_6,test_rmse_7,test_rmse_8,test_rmse_9]}\n",
        "pd.DataFrame(model_perf)"
      ],
      "metadata": {
        "colab": {
          "base_uri": "https://localhost:8080/",
          "height": 332
        },
        "id": "5xEW7GZ2Q0D-",
        "outputId": "b144bab1-74a4-43f9-c72a-e146365d7ec5"
      },
      "execution_count": null,
      "outputs": [
        {
          "output_type": "execute_result",
          "data": {
            "text/html": [
              "\n",
              "  <div id=\"df-d3d3a6c7-2cbe-4042-9190-2a23ecc11fbf\">\n",
              "    <div class=\"colab-df-container\">\n",
              "      <div>\n",
              "<style scoped>\n",
              "    .dataframe tbody tr th:only-of-type {\n",
              "        vertical-align: middle;\n",
              "    }\n",
              "\n",
              "    .dataframe tbody tr th {\n",
              "        vertical-align: top;\n",
              "    }\n",
              "\n",
              "    .dataframe thead th {\n",
              "        text-align: right;\n",
              "    }\n",
              "</style>\n",
              "<table border=\"1\" class=\"dataframe\">\n",
              "  <thead>\n",
              "    <tr style=\"text-align: right;\">\n",
              "      <th></th>\n",
              "      <th>model</th>\n",
              "      <th>Train RMSE</th>\n",
              "      <th>Test RMSE</th>\n",
              "    </tr>\n",
              "  </thead>\n",
              "  <tbody>\n",
              "    <tr>\n",
              "      <th>0</th>\n",
              "      <td>Lasso</td>\n",
              "      <td>0.533825</td>\n",
              "      <td>0.533860</td>\n",
              "    </tr>\n",
              "    <tr>\n",
              "      <th>1</th>\n",
              "      <td>Ridge</td>\n",
              "      <td>0.488609</td>\n",
              "      <td>0.489909</td>\n",
              "    </tr>\n",
              "    <tr>\n",
              "      <th>2</th>\n",
              "      <td>ElasticNet</td>\n",
              "      <td>0.533825</td>\n",
              "      <td>0.533860</td>\n",
              "    </tr>\n",
              "    <tr>\n",
              "      <th>3</th>\n",
              "      <td>Linear SVR</td>\n",
              "      <td>0.495985</td>\n",
              "      <td>0.497386</td>\n",
              "    </tr>\n",
              "    <tr>\n",
              "      <th>4</th>\n",
              "      <td>SVR with rbf kernel</td>\n",
              "      <td>0.475473</td>\n",
              "      <td>0.490172</td>\n",
              "    </tr>\n",
              "    <tr>\n",
              "      <th>5</th>\n",
              "      <td>Decision Trees</td>\n",
              "      <td>0.092672</td>\n",
              "      <td>0.667629</td>\n",
              "    </tr>\n",
              "    <tr>\n",
              "      <th>6</th>\n",
              "      <td>Random Forest</td>\n",
              "      <td>0.199793</td>\n",
              "      <td>0.492747</td>\n",
              "    </tr>\n",
              "    <tr>\n",
              "      <th>7</th>\n",
              "      <td>GBDT</td>\n",
              "      <td>0.479011</td>\n",
              "      <td>0.482178</td>\n",
              "    </tr>\n",
              "    <tr>\n",
              "      <th>8</th>\n",
              "      <td>Xgboost</td>\n",
              "      <td>0.478980</td>\n",
              "      <td>0.482219</td>\n",
              "    </tr>\n",
              "  </tbody>\n",
              "</table>\n",
              "</div>\n",
              "      <button class=\"colab-df-convert\" onclick=\"convertToInteractive('df-d3d3a6c7-2cbe-4042-9190-2a23ecc11fbf')\"\n",
              "              title=\"Convert this dataframe to an interactive table.\"\n",
              "              style=\"display:none;\">\n",
              "        \n",
              "  <svg xmlns=\"http://www.w3.org/2000/svg\" height=\"24px\"viewBox=\"0 0 24 24\"\n",
              "       width=\"24px\">\n",
              "    <path d=\"M0 0h24v24H0V0z\" fill=\"none\"/>\n",
              "    <path d=\"M18.56 5.44l.94 2.06.94-2.06 2.06-.94-2.06-.94-.94-2.06-.94 2.06-2.06.94zm-11 1L8.5 8.5l.94-2.06 2.06-.94-2.06-.94L8.5 2.5l-.94 2.06-2.06.94zm10 10l.94 2.06.94-2.06 2.06-.94-2.06-.94-.94-2.06-.94 2.06-2.06.94z\"/><path d=\"M17.41 7.96l-1.37-1.37c-.4-.4-.92-.59-1.43-.59-.52 0-1.04.2-1.43.59L10.3 9.45l-7.72 7.72c-.78.78-.78 2.05 0 2.83L4 21.41c.39.39.9.59 1.41.59.51 0 1.02-.2 1.41-.59l7.78-7.78 2.81-2.81c.8-.78.8-2.07 0-2.86zM5.41 20L4 18.59l7.72-7.72 1.47 1.35L5.41 20z\"/>\n",
              "  </svg>\n",
              "      </button>\n",
              "      \n",
              "  <style>\n",
              "    .colab-df-container {\n",
              "      display:flex;\n",
              "      flex-wrap:wrap;\n",
              "      gap: 12px;\n",
              "    }\n",
              "\n",
              "    .colab-df-convert {\n",
              "      background-color: #E8F0FE;\n",
              "      border: none;\n",
              "      border-radius: 50%;\n",
              "      cursor: pointer;\n",
              "      display: none;\n",
              "      fill: #1967D2;\n",
              "      height: 32px;\n",
              "      padding: 0 0 0 0;\n",
              "      width: 32px;\n",
              "    }\n",
              "\n",
              "    .colab-df-convert:hover {\n",
              "      background-color: #E2EBFA;\n",
              "      box-shadow: 0px 1px 2px rgba(60, 64, 67, 0.3), 0px 1px 3px 1px rgba(60, 64, 67, 0.15);\n",
              "      fill: #174EA6;\n",
              "    }\n",
              "\n",
              "    [theme=dark] .colab-df-convert {\n",
              "      background-color: #3B4455;\n",
              "      fill: #D2E3FC;\n",
              "    }\n",
              "\n",
              "    [theme=dark] .colab-df-convert:hover {\n",
              "      background-color: #434B5C;\n",
              "      box-shadow: 0px 1px 3px 1px rgba(0, 0, 0, 0.15);\n",
              "      filter: drop-shadow(0px 1px 2px rgba(0, 0, 0, 0.3));\n",
              "      fill: #FFFFFF;\n",
              "    }\n",
              "  </style>\n",
              "\n",
              "      <script>\n",
              "        const buttonEl =\n",
              "          document.querySelector('#df-d3d3a6c7-2cbe-4042-9190-2a23ecc11fbf button.colab-df-convert');\n",
              "        buttonEl.style.display =\n",
              "          google.colab.kernel.accessAllowed ? 'block' : 'none';\n",
              "\n",
              "        async function convertToInteractive(key) {\n",
              "          const element = document.querySelector('#df-d3d3a6c7-2cbe-4042-9190-2a23ecc11fbf');\n",
              "          const dataTable =\n",
              "            await google.colab.kernel.invokeFunction('convertToInteractive',\n",
              "                                                     [key], {});\n",
              "          if (!dataTable) return;\n",
              "\n",
              "          const docLinkHtml = 'Like what you see? Visit the ' +\n",
              "            '<a target=\"_blank\" href=https://colab.research.google.com/notebooks/data_table.ipynb>data table notebook</a>'\n",
              "            + ' to learn more about interactive tables.';\n",
              "          element.innerHTML = '';\n",
              "          dataTable['output_type'] = 'display_data';\n",
              "          await google.colab.output.renderOutput(dataTable, element);\n",
              "          const docLink = document.createElement('div');\n",
              "          docLink.innerHTML = docLinkHtml;\n",
              "          element.appendChild(docLink);\n",
              "        }\n",
              "      </script>\n",
              "    </div>\n",
              "  </div>\n",
              "  "
            ],
            "text/plain": [
              "                 model  Train RMSE  Test RMSE\n",
              "0                Lasso    0.533825   0.533860\n",
              "1                Ridge    0.488609   0.489909\n",
              "2           ElasticNet    0.533825   0.533860\n",
              "3           Linear SVR    0.495985   0.497386\n",
              "4  SVR with rbf kernel    0.475473   0.490172\n",
              "5       Decision Trees    0.092672   0.667629\n",
              "6        Random Forest    0.199793   0.492747\n",
              "7                 GBDT    0.479011   0.482178\n",
              "8              Xgboost    0.478980   0.482219"
            ]
          },
          "metadata": {},
          "execution_count": 49
        }
      ]
    },
    {
      "cell_type": "markdown",
      "source": [
        "    So, the best rmse that we are getting is around 0.482"
      ],
      "metadata": {
        "id": "tHljfpOFSIat"
      }
    },
    {
      "cell_type": "markdown",
      "source": [
        "#Hyperparameter Tuning Xgboost model:"
      ],
      "metadata": {
        "id": "m02LLUE2LI2D"
      }
    },
    {
      "cell_type": "code",
      "source": [
        "dtrain = xgb.DMatrix(X_train, label=y_train)\n",
        "\n",
        "def tuning(params,dtrain = dtrain):\n",
        "    cv_results = xgb.cv( params,\n",
        "    dtrain,\n",
        "    num_boost_round=2000,\n",
        "    seed=42,\n",
        "    nfold=5,\n",
        "    metrics={'rmse'},\n",
        "    early_stopping_rounds=30,\n",
        "    verbose_eval = 100)\n",
        "    return cv_results"
      ],
      "metadata": {
        "id": "6xR7-dbokNLS"
      },
      "execution_count": null,
      "outputs": []
    },
    {
      "cell_type": "code",
      "source": [
        "params = {\n",
        "    'max_depth':5,\n",
        "    'min_child_weight': 50,\n",
        "    'eta': 0.01,\n",
        "    'subsample': 1,\n",
        "    'colsample_bytree': 0.8,\n",
        "    'objective':'reg:squarederror',\n",
        "}\n"
      ],
      "metadata": {
        "id": "VIoZmUmqmjV0"
      },
      "execution_count": null,
      "outputs": []
    },
    {
      "cell_type": "markdown",
      "source": [
        " max_depth,min_child_weight"
      ],
      "metadata": {
        "id": "KYlooHS-mk7H"
      }
    },
    {
      "cell_type": "code",
      "source": [
        "\n",
        "depth = [i for i in range(5,12)] ; min_child_weight =[i for i in range(50,300,50)]\n",
        "l = None; par = None\n",
        "for d in depth:\n",
        "    #updating the max_depth\n",
        "    params['max_depth'] = d\n",
        "    for w in min_child_weight:\n",
        "        #updating the min child weight\n",
        "        print('max_depth = {} and min_child_weight = {}'.format(d,w))\n",
        "        params['min_child_weight'] = w\n",
        "        result = tuning(params)\n",
        "        if l!=None:\n",
        "            if result['test-rmse-mean'].min() < l:\n",
        "                l = result['test-rmse-mean'].min()\n",
        "                par = (d,w)\n",
        "        else:\n",
        "            l = result['test-rmse-mean'].min()\n",
        "            par = (d,w)\n",
        "\n",
        "#best parameters\n",
        "print('best parameters (max_depth,min_child_weight) = {}'.format(par))\n",
        "print('CV RMSE :', l)\n",
        "        \n",
        "\n"
      ],
      "metadata": {
        "colab": {
          "base_uri": "https://localhost:8080/"
        },
        "id": "t9w8C1MXLZdm",
        "outputId": "973b8e65-cb2e-4cff-ca46-cfaf7ac5e684"
      },
      "execution_count": null,
      "outputs": [
        {
          "output_type": "stream",
          "name": "stdout",
          "text": [
            "max_depth = 5 and min_child_weight = 50\n",
            "[0]\ttrain-rmse:1.93775+0.000770178\ttest-rmse:1.93778+0.00307737\n",
            "[100]\ttrain-rmse:0.840299+0.000499782\ttest-rmse:0.840983+0.00419396\n",
            "[200]\ttrain-rmse:0.542579+0.000608253\ttest-rmse:0.544628+0.00373375\n",
            "[300]\ttrain-rmse:0.487087+0.000650123\ttest-rmse:0.490487+0.00297405\n",
            "[400]\ttrain-rmse:0.477648+0.000652806\ttest-rmse:0.482186+0.00257811\n",
            "[500]\ttrain-rmse:0.47526+0.000603174\ttest-rmse:0.480786+0.00245454\n",
            "[600]\ttrain-rmse:0.474128+0.000547264\ttest-rmse:0.480516+0.00242129\n",
            "[700]\ttrain-rmse:0.473295+0.000550102\ttest-rmse:0.480412+0.00241742\n",
            "[800]\ttrain-rmse:0.472576+0.000609152\ttest-rmse:0.480356+0.00240645\n",
            "[900]\ttrain-rmse:0.471914+0.000634966\ttest-rmse:0.48032+0.0024385\n",
            "[1000]\ttrain-rmse:0.471291+0.000651105\ttest-rmse:0.480306+0.00246023\n",
            "[1100]\ttrain-rmse:0.470674+0.000664586\ttest-rmse:0.480279+0.00246813\n",
            "max_depth = 5 and min_child_weight = 100\n",
            "[0]\ttrain-rmse:1.93775+0.000769702\ttest-rmse:1.93778+0.00307717\n",
            "[100]\ttrain-rmse:0.840351+0.000488689\ttest-rmse:0.841+0.00416853\n",
            "[200]\ttrain-rmse:0.542759+0.000578087\ttest-rmse:0.544697+0.0037481\n",
            "[300]\ttrain-rmse:0.487394+0.000602335\ttest-rmse:0.49056+0.00299903\n",
            "[400]\ttrain-rmse:0.478117+0.000589466\ttest-rmse:0.482313+0.00260889\n",
            "[500]\ttrain-rmse:0.475851+0.000626114\ttest-rmse:0.480939+0.00243607\n",
            "[600]\ttrain-rmse:0.47479+0.00060441\ttest-rmse:0.48066+0.00239467\n",
            "[700]\ttrain-rmse:0.474045+0.000637531\ttest-rmse:0.48056+0.00239744\n",
            "[800]\ttrain-rmse:0.473381+0.000643953\ttest-rmse:0.480504+0.00240931\n",
            "[900]\ttrain-rmse:0.472789+0.000665689\ttest-rmse:0.480471+0.00243386\n",
            "max_depth = 5 and min_child_weight = 150\n",
            "[0]\ttrain-rmse:1.93775+0.000769702\ttest-rmse:1.93778+0.00307717\n",
            "[100]\ttrain-rmse:0.840385+0.000486412\ttest-rmse:0.840996+0.00418956\n",
            "[200]\ttrain-rmse:0.542878+0.000574203\ttest-rmse:0.544742+0.00378451\n",
            "[300]\ttrain-rmse:0.487595+0.000583642\ttest-rmse:0.49063+0.00303407\n",
            "[400]\ttrain-rmse:0.478421+0.000576862\ttest-rmse:0.482389+0.00261359\n",
            "[500]\ttrain-rmse:0.476222+0.000590566\ttest-rmse:0.481047+0.00245245\n",
            "[600]\ttrain-rmse:0.475251+0.000579437\ttest-rmse:0.480741+0.00237943\n",
            "[700]\ttrain-rmse:0.474549+0.000593519\ttest-rmse:0.480623+0.00237967\n",
            "[800]\ttrain-rmse:0.473952+0.000638598\ttest-rmse:0.480579+0.00240956\n",
            "[900]\ttrain-rmse:0.473413+0.0006707\ttest-rmse:0.480553+0.00242883\n",
            "[1000]\ttrain-rmse:0.472923+0.000670797\ttest-rmse:0.48053+0.00244796\n",
            "[1100]\ttrain-rmse:0.472475+0.000672025\ttest-rmse:0.480507+0.00247292\n",
            "[1200]\ttrain-rmse:0.472062+0.0007118\ttest-rmse:0.480489+0.00248945\n",
            "max_depth = 5 and min_child_weight = 200\n",
            "[0]\ttrain-rmse:1.93775+0.000768567\ttest-rmse:1.93778+0.00307743\n",
            "[100]\ttrain-rmse:0.840426+0.000480956\ttest-rmse:0.841018+0.00418725\n",
            "[200]\ttrain-rmse:0.542994+0.00056537\ttest-rmse:0.544796+0.00377554\n",
            "[300]\ttrain-rmse:0.487764+0.000578933\ttest-rmse:0.490693+0.00306535\n",
            "[400]\ttrain-rmse:0.47866+0.000581459\ttest-rmse:0.482465+0.00265586\n",
            "[500]\ttrain-rmse:0.476541+0.000602969\ttest-rmse:0.481097+0.00248277\n",
            "[600]\ttrain-rmse:0.47566+0.000615508\ttest-rmse:0.480797+0.00241288\n",
            "[700]\ttrain-rmse:0.475022+0.000627863\ttest-rmse:0.480689+0.00240506\n",
            "[800]\ttrain-rmse:0.474484+0.000633841\ttest-rmse:0.480625+0.00240842\n",
            "[900]\ttrain-rmse:0.473989+0.000616416\ttest-rmse:0.480578+0.00241853\n",
            "[1000]\ttrain-rmse:0.473549+0.000644045\ttest-rmse:0.480552+0.00244271\n",
            "[1100]\ttrain-rmse:0.47314+0.000653474\ttest-rmse:0.480528+0.0024641\n",
            "[1200]\ttrain-rmse:0.472793+0.000678174\ttest-rmse:0.480511+0.00246719\n",
            "max_depth = 5 and min_child_weight = 250\n",
            "[0]\ttrain-rmse:1.93775+0.000767627\ttest-rmse:1.93778+0.00307847\n",
            "[100]\ttrain-rmse:0.840453+0.000485724\ttest-rmse:0.841026+0.00416444\n",
            "[200]\ttrain-rmse:0.543054+0.00057996\ttest-rmse:0.544793+0.00373877\n",
            "[300]\ttrain-rmse:0.487868+0.000607905\ttest-rmse:0.490661+0.00304308\n",
            "[400]\ttrain-rmse:0.478861+0.000603382\ttest-rmse:0.48246+0.00265827\n",
            "[500]\ttrain-rmse:0.476832+0.000605781\ttest-rmse:0.481111+0.00249739\n",
            "[600]\ttrain-rmse:0.476004+0.000596678\ttest-rmse:0.480822+0.0024283\n",
            "[700]\ttrain-rmse:0.475382+0.000607165\ttest-rmse:0.480701+0.00241754\n",
            "[800]\ttrain-rmse:0.474824+0.000631805\ttest-rmse:0.480612+0.00242559\n",
            "[900]\ttrain-rmse:0.474334+0.000625274\ttest-rmse:0.480555+0.00243237\n",
            "[1000]\ttrain-rmse:0.473866+0.00064121\ttest-rmse:0.480528+0.00244164\n",
            "max_depth = 6 and min_child_weight = 50\n",
            "[0]\ttrain-rmse:1.93774+0.000762627\ttest-rmse:1.93778+0.00307655\n",
            "[100]\ttrain-rmse:0.839423+0.00050153\ttest-rmse:0.840583+0.00418515\n",
            "[200]\ttrain-rmse:0.54028+0.000588042\ttest-rmse:0.543909+0.00376996\n",
            "[300]\ttrain-rmse:0.483889+0.000611104\ttest-rmse:0.489782+0.00300062\n",
            "[400]\ttrain-rmse:0.47387+0.000634748\ttest-rmse:0.481625+0.00261731\n",
            "[500]\ttrain-rmse:0.471148+0.000614914\ttest-rmse:0.480285+0.002467\n",
            "[600]\ttrain-rmse:0.469868+0.000552221\ttest-rmse:0.480059+0.00243324\n",
            "[700]\ttrain-rmse:0.468827+0.000605362\ttest-rmse:0.47998+0.00245064\n",
            "[800]\ttrain-rmse:0.46792+0.000661768\ttest-rmse:0.479966+0.00246627\n",
            "[900]\ttrain-rmse:0.467085+0.000677202\ttest-rmse:0.479951+0.00248905\n",
            "max_depth = 6 and min_child_weight = 100\n",
            "[0]\ttrain-rmse:1.93773+0.000761955\ttest-rmse:1.93778+0.00307614\n",
            "[100]\ttrain-rmse:0.839549+0.000485557\ttest-rmse:0.840614+0.00411709\n",
            "[200]\ttrain-rmse:0.540772+0.000532869\ttest-rmse:0.544026+0.00374041\n",
            "[300]\ttrain-rmse:0.484695+0.000540444\ttest-rmse:0.489925+0.00299324\n",
            "[400]\ttrain-rmse:0.474993+0.000573614\ttest-rmse:0.481813+0.0026185\n",
            "[500]\ttrain-rmse:0.472437+0.000642544\ttest-rmse:0.48048+0.00244976\n",
            "[600]\ttrain-rmse:0.471263+0.000650916\ttest-rmse:0.480234+0.00241179\n",
            "[700]\ttrain-rmse:0.470358+0.000700787\ttest-rmse:0.480149+0.00242861\n",
            "[800]\ttrain-rmse:0.469527+0.000718059\ttest-rmse:0.480119+0.00244377\n",
            "max_depth = 6 and min_child_weight = 150\n",
            "[0]\ttrain-rmse:1.93773+0.000761955\ttest-rmse:1.93778+0.00307614\n",
            "[100]\ttrain-rmse:0.839627+0.000487151\ttest-rmse:0.840636+0.00416559\n",
            "[200]\ttrain-rmse:0.541031+0.00053429\ttest-rmse:0.544083+0.00379487\n",
            "[300]\ttrain-rmse:0.485203+0.000539724\ttest-rmse:0.489977+0.00305802\n",
            "[400]\ttrain-rmse:0.4757+0.000588428\ttest-rmse:0.481884+0.0026453\n",
            "[500]\ttrain-rmse:0.473316+0.000569749\ttest-rmse:0.480598+0.00249253\n",
            "[600]\ttrain-rmse:0.472196+0.000609977\ttest-rmse:0.480337+0.00243458\n",
            "[700]\ttrain-rmse:0.471412+0.000633233\ttest-rmse:0.480261+0.0024339\n",
            "[800]\ttrain-rmse:0.470687+0.000664612\ttest-rmse:0.480217+0.00243552\n",
            "[900]\ttrain-rmse:0.470032+0.000657617\ttest-rmse:0.480196+0.00245197\n",
            "max_depth = 6 and min_child_weight = 200\n",
            "[0]\ttrain-rmse:1.93774+0.000762556\ttest-rmse:1.93778+0.0030744\n",
            "[100]\ttrain-rmse:0.839715+0.00047182\ttest-rmse:0.84066+0.00415776\n",
            "[200]\ttrain-rmse:0.541294+0.000514261\ttest-rmse:0.544128+0.00378115\n",
            "[300]\ttrain-rmse:0.485627+0.000539713\ttest-rmse:0.490108+0.00307697\n",
            "[400]\ttrain-rmse:0.476278+0.000540651\ttest-rmse:0.481975+0.00268229\n",
            "[500]\ttrain-rmse:0.474018+0.000512902\ttest-rmse:0.480687+0.00248728\n",
            "[600]\ttrain-rmse:0.47302+0.000539038\ttest-rmse:0.480455+0.00241816\n",
            "[700]\ttrain-rmse:0.472274+0.000574153\ttest-rmse:0.480347+0.00240189\n",
            "[800]\ttrain-rmse:0.47165+0.00062895\ttest-rmse:0.480304+0.0024115\n",
            "[900]\ttrain-rmse:0.471069+0.000643806\ttest-rmse:0.480285+0.00241324\n",
            "max_depth = 6 and min_child_weight = 250\n",
            "[0]\ttrain-rmse:1.93773+0.000761618\ttest-rmse:1.93778+0.00307525\n",
            "[100]\ttrain-rmse:0.839767+0.000483534\ttest-rmse:0.84067+0.00416353\n",
            "[200]\ttrain-rmse:0.541501+0.000546132\ttest-rmse:0.544145+0.00376137\n",
            "[300]\ttrain-rmse:0.485983+0.000575242\ttest-rmse:0.49011+0.00303625\n",
            "[400]\ttrain-rmse:0.476744+0.000598103\ttest-rmse:0.481997+0.00264765\n",
            "[500]\ttrain-rmse:0.474585+0.000571519\ttest-rmse:0.480724+0.00248053\n",
            "[600]\ttrain-rmse:0.47364+0.000595438\ttest-rmse:0.480446+0.00241923\n",
            "[700]\ttrain-rmse:0.472929+0.000623296\ttest-rmse:0.480331+0.00240064\n",
            "[800]\ttrain-rmse:0.472305+0.000633895\ttest-rmse:0.480285+0.00240008\n",
            "[900]\ttrain-rmse:0.471778+0.000606338\ttest-rmse:0.480262+0.00240641\n",
            "max_depth = 7 and min_child_weight = 50\n",
            "[0]\ttrain-rmse:1.93774+0.000770752\ttest-rmse:1.93778+0.00307766\n",
            "[100]\ttrain-rmse:0.838616+0.000488124\ttest-rmse:0.840401+0.004193\n",
            "[200]\ttrain-rmse:0.537733+0.000551428\ttest-rmse:0.5434+0.00381127\n",
            "[300]\ttrain-rmse:0.480131+0.000578054\ttest-rmse:0.48925+0.00307157\n",
            "[400]\ttrain-rmse:0.46948+0.000620315\ttest-rmse:0.481141+0.00271545\n",
            "[500]\ttrain-rmse:0.466502+0.000608866\ttest-rmse:0.479893+0.00250287\n",
            "[600]\ttrain-rmse:0.464931+0.000555063\ttest-rmse:0.479702+0.00245794\n",
            "[700]\ttrain-rmse:0.463675+0.000569969\ttest-rmse:0.479646+0.0024825\n",
            "max_depth = 7 and min_child_weight = 100\n",
            "[0]\ttrain-rmse:1.93774+0.000769724\ttest-rmse:1.93778+0.00307699\n",
            "[100]\ttrain-rmse:0.83884+0.000477179\ttest-rmse:0.840415+0.00411833\n",
            "[200]\ttrain-rmse:0.538653+0.000542687\ttest-rmse:0.543524+0.00377521\n",
            "[300]\ttrain-rmse:0.481743+0.000556981\ttest-rmse:0.489412+0.00303779\n",
            "[400]\ttrain-rmse:0.471546+0.000677333\ttest-rmse:0.481339+0.00266316\n",
            "[500]\ttrain-rmse:0.4688+0.000719595\ttest-rmse:0.48008+0.00249658\n",
            "[600]\ttrain-rmse:0.467467+0.000719237\ttest-rmse:0.479855+0.00242261\n",
            "[700]\ttrain-rmse:0.46638+0.000768276\ttest-rmse:0.479814+0.0024224\n",
            "max_depth = 7 and min_child_weight = 150\n",
            "[0]\ttrain-rmse:1.93774+0.000770015\ttest-rmse:1.93778+0.00307711\n",
            "[100]\ttrain-rmse:0.839002+0.000474558\ttest-rmse:0.840418+0.00413021\n",
            "[200]\ttrain-rmse:0.539252+0.000521407\ttest-rmse:0.543623+0.00376966\n",
            "[300]\ttrain-rmse:0.482749+0.0005267\ttest-rmse:0.48957+0.0030692\n",
            "[400]\ttrain-rmse:0.472911+0.000576142\ttest-rmse:0.481521+0.00267878\n",
            "[500]\ttrain-rmse:0.470383+0.000576338\ttest-rmse:0.4803+0.00252281\n",
            "[600]\ttrain-rmse:0.469173+0.000574776\ttest-rmse:0.480076+0.00245824\n",
            "[700]\ttrain-rmse:0.468263+0.000594318\ttest-rmse:0.480024+0.00243827\n",
            "[800]\ttrain-rmse:0.46747+0.000664822\ttest-rmse:0.479997+0.00244018\n",
            "max_depth = 7 and min_child_weight = 200\n",
            "[0]\ttrain-rmse:1.93775+0.000765082\ttest-rmse:1.93778+0.00307602\n",
            "[100]\ttrain-rmse:0.839147+0.00045973\ttest-rmse:0.840425+0.00411201\n",
            "[200]\ttrain-rmse:0.539756+0.000506277\ttest-rmse:0.543677+0.00374141\n",
            "[300]\ttrain-rmse:0.483586+0.000545359\ttest-rmse:0.489676+0.0030217\n",
            "[400]\ttrain-rmse:0.47396+0.000600484\ttest-rmse:0.481657+0.00264165\n",
            "[500]\ttrain-rmse:0.471573+0.00063678\ttest-rmse:0.480454+0.00248633\n",
            "[600]\ttrain-rmse:0.470426+0.000648675\ttest-rmse:0.480216+0.00242604\n",
            "[700]\ttrain-rmse:0.469595+0.000695246\ttest-rmse:0.480144+0.00242825\n",
            "max_depth = 7 and min_child_weight = 250\n",
            "[0]\ttrain-rmse:1.93774+0.00076405\ttest-rmse:1.93778+0.00307828\n",
            "[100]\ttrain-rmse:0.839259+0.000468366\ttest-rmse:0.840437+0.00411346\n",
            "[200]\ttrain-rmse:0.540171+0.000509333\ttest-rmse:0.543752+0.0037378\n",
            "[300]\ttrain-rmse:0.484211+0.000523179\ttest-rmse:0.489769+0.00300978\n",
            "[400]\ttrain-rmse:0.474747+0.000576206\ttest-rmse:0.481727+0.00262807\n",
            "[500]\ttrain-rmse:0.472446+0.000564806\ttest-rmse:0.480485+0.00247583\n",
            "[600]\ttrain-rmse:0.471437+0.000596114\ttest-rmse:0.48023+0.0023889\n",
            "[700]\ttrain-rmse:0.470643+0.000629487\ttest-rmse:0.480144+0.00237087\n",
            "max_depth = 8 and min_child_weight = 50\n",
            "[0]\ttrain-rmse:1.93773+0.00076891\ttest-rmse:1.93778+0.00307617\n",
            "[100]\ttrain-rmse:0.837861+0.000489247\ttest-rmse:0.840306+0.00418656\n",
            "[200]\ttrain-rmse:0.534951+0.000566277\ttest-rmse:0.543085+0.00381223\n",
            "[300]\ttrain-rmse:0.47594+0.000613294\ttest-rmse:0.488902+0.00307194\n",
            "[400]\ttrain-rmse:0.464646+0.000625328\ttest-rmse:0.480897+0.00276238\n",
            "[500]\ttrain-rmse:0.461323+0.000580205\ttest-rmse:0.479725+0.00257088\n",
            "[600]\ttrain-rmse:0.459526+0.000604648\ttest-rmse:0.47955+0.00253588\n",
            "[700]\ttrain-rmse:0.457986+0.000684122\ttest-rmse:0.479494+0.00254444\n",
            "max_depth = 8 and min_child_weight = 100\n",
            "[0]\ttrain-rmse:1.93773+0.000768593\ttest-rmse:1.93778+0.0030755\n",
            "[100]\ttrain-rmse:0.83826+0.000489524\ttest-rmse:0.840302+0.00411226\n",
            "[200]\ttrain-rmse:0.536597+0.000578293\ttest-rmse:0.543227+0.00379148\n",
            "[300]\ttrain-rmse:0.478825+0.000581092\ttest-rmse:0.48916+0.00305526\n",
            "[400]\ttrain-rmse:0.468214+0.000710311\ttest-rmse:0.481131+0.00270233\n",
            "[500]\ttrain-rmse:0.46521+0.000767846\ttest-rmse:0.479935+0.00254622\n",
            "[600]\ttrain-rmse:0.463677+0.000711201\ttest-rmse:0.479742+0.00251645\n",
            "max_depth = 8 and min_child_weight = 150\n",
            "[0]\ttrain-rmse:1.93773+0.000768589\ttest-rmse:1.93778+0.00307533\n",
            "[100]\ttrain-rmse:0.838544+0.000473838\ttest-rmse:0.84033+0.00409777\n",
            "[200]\ttrain-rmse:0.537678+0.0005146\ttest-rmse:0.543347+0.00376509\n",
            "[300]\ttrain-rmse:0.480499+0.000572439\ttest-rmse:0.489312+0.00304516\n",
            "[400]\ttrain-rmse:0.470274+0.000676188\ttest-rmse:0.481299+0.00264833\n",
            "[500]\ttrain-rmse:0.467592+0.000677524\ttest-rmse:0.480129+0.00251655\n",
            "[600]\ttrain-rmse:0.466313+0.000671906\ttest-rmse:0.479932+0.00246235\n",
            "[700]\ttrain-rmse:0.465313+0.000764853\ttest-rmse:0.479884+0.00243961\n",
            "max_depth = 8 and min_child_weight = 200\n",
            "[0]\ttrain-rmse:1.93774+0.000763426\ttest-rmse:1.93778+0.00307452\n",
            "[100]\ttrain-rmse:0.83876+0.000462837\ttest-rmse:0.840326+0.00409042\n",
            "[200]\ttrain-rmse:0.538454+0.000526029\ttest-rmse:0.543404+0.00369842\n",
            "[300]\ttrain-rmse:0.481713+0.000554307\ttest-rmse:0.48942+0.00300535\n",
            "[400]\ttrain-rmse:0.471835+0.000643804\ttest-rmse:0.481441+0.00262091\n",
            "[500]\ttrain-rmse:0.46936+0.000712505\ttest-rmse:0.480296+0.00246928\n",
            "[600]\ttrain-rmse:0.46815+0.00071394\ttest-rmse:0.480047+0.00237713\n",
            "[700]\ttrain-rmse:0.467253+0.000673754\ttest-rmse:0.479998+0.00235481\n",
            "max_depth = 8 and min_child_weight = 250\n",
            "[0]\ttrain-rmse:1.93774+0.00076311\ttest-rmse:1.93778+0.00307774\n",
            "[100]\ttrain-rmse:0.83893+0.000464346\ttest-rmse:0.840353+0.00409842\n",
            "[200]\ttrain-rmse:0.539094+0.000535153\ttest-rmse:0.5435+0.00369737\n",
            "[300]\ttrain-rmse:0.482678+0.00058153\ttest-rmse:0.489503+0.00297609\n",
            "[400]\ttrain-rmse:0.473001+0.000610608\ttest-rmse:0.481514+0.00264614\n",
            "[500]\ttrain-rmse:0.470654+0.000645532\ttest-rmse:0.480334+0.00252026\n",
            "[600]\ttrain-rmse:0.469526+0.000653756\ttest-rmse:0.480078+0.00246029\n",
            "[700]\ttrain-rmse:0.468648+0.000607576\ttest-rmse:0.480008+0.00244294\n",
            "[800]\ttrain-rmse:0.467845+0.000690665\ttest-rmse:0.479987+0.00246028\n",
            "max_depth = 9 and min_child_weight = 50\n",
            "[0]\ttrain-rmse:1.93773+0.000771171\ttest-rmse:1.93778+0.00307631\n",
            "[100]\ttrain-rmse:0.837221+0.00050875\ttest-rmse:0.840302+0.00418704\n",
            "[200]\ttrain-rmse:0.532186+0.000648324\ttest-rmse:0.542879+0.00383341\n",
            "[300]\ttrain-rmse:0.471722+0.0007368\ttest-rmse:0.488695+0.00314015\n",
            "[400]\ttrain-rmse:0.459709+0.00080624\ttest-rmse:0.480761+0.00281607\n",
            "[500]\ttrain-rmse:0.456066+0.00065287\ttest-rmse:0.479651+0.00267612\n",
            "[600]\ttrain-rmse:0.454003+0.00057525\ttest-rmse:0.479492+0.00261294\n",
            "max_depth = 9 and min_child_weight = 100\n",
            "[0]\ttrain-rmse:1.93773+0.000770588\ttest-rmse:1.93778+0.00307638\n",
            "[100]\ttrain-rmse:0.837817+0.000501936\ttest-rmse:0.84026+0.00409751\n",
            "[200]\ttrain-rmse:0.534786+0.000583506\ttest-rmse:0.543021+0.00376279\n",
            "[300]\ttrain-rmse:0.476003+0.000657857\ttest-rmse:0.488958+0.00303659\n",
            "[400]\ttrain-rmse:0.464982+0.000865894\ttest-rmse:0.480983+0.00266373\n",
            "[500]\ttrain-rmse:0.461791+0.00084263\ttest-rmse:0.479845+0.00253168\n",
            "[600]\ttrain-rmse:0.460043+0.00080111\ttest-rmse:0.47968+0.00249087\n",
            "max_depth = 9 and min_child_weight = 150\n",
            "[0]\ttrain-rmse:1.93773+0.000770394\ttest-rmse:1.93778+0.00307586\n",
            "[100]\ttrain-rmse:0.838221+0.0004834\ttest-rmse:0.840286+0.00410217\n",
            "[200]\ttrain-rmse:0.536384+0.000536468\ttest-rmse:0.543194+0.00373018\n",
            "[300]\ttrain-rmse:0.47851+0.000559875\ttest-rmse:0.48917+0.00305798\n",
            "[400]\ttrain-rmse:0.467938+0.000662186\ttest-rmse:0.481205+0.00268003\n",
            "[500]\ttrain-rmse:0.465101+0.000645634\ttest-rmse:0.480079+0.00252241\n",
            "[600]\ttrain-rmse:0.463695+0.000756411\ttest-rmse:0.479903+0.00247925\n",
            "max_depth = 9 and min_child_weight = 200\n",
            "[0]\ttrain-rmse:1.93774+0.000764806\ttest-rmse:1.93778+0.0030755\n",
            "[100]\ttrain-rmse:0.838504+0.00046131\ttest-rmse:0.840293+0.00409185\n",
            "[200]\ttrain-rmse:0.537459+0.000493521\ttest-rmse:0.54329+0.00373399\n",
            "[300]\ttrain-rmse:0.480179+0.000509613\ttest-rmse:0.489296+0.00303971\n",
            "[400]\ttrain-rmse:0.470036+0.000543082\ttest-rmse:0.481351+0.00270023\n",
            "[500]\ttrain-rmse:0.467389+0.000652813\ttest-rmse:0.480206+0.00252469\n",
            "[600]\ttrain-rmse:0.466169+0.000678918\ttest-rmse:0.480028+0.0024596\n",
            "max_depth = 9 and min_child_weight = 250\n",
            "[0]\ttrain-rmse:1.93774+0.000764485\ttest-rmse:1.93778+0.00307853\n",
            "[100]\ttrain-rmse:0.838719+0.000463646\ttest-rmse:0.840296+0.00410917\n",
            "[200]\ttrain-rmse:0.538309+0.000523035\ttest-rmse:0.543382+0.00370189\n",
            "[300]\ttrain-rmse:0.481454+0.000544627\ttest-rmse:0.489377+0.00302331\n",
            "[400]\ttrain-rmse:0.471506+0.000588215\ttest-rmse:0.481418+0.00267205\n",
            "[500]\ttrain-rmse:0.469074+0.000610672\ttest-rmse:0.480277+0.00253275\n",
            "[600]\ttrain-rmse:0.467864+0.000621623\ttest-rmse:0.480077+0.00247956\n",
            "[700]\ttrain-rmse:0.466916+0.000618267\ttest-rmse:0.480025+0.00246306\n",
            "max_depth = 10 and min_child_weight = 50\n",
            "[0]\ttrain-rmse:1.93773+0.000770461\ttest-rmse:1.93778+0.00307629\n",
            "[100]\ttrain-rmse:0.836677+0.000514109\ttest-rmse:0.840386+0.00417798\n",
            "[200]\ttrain-rmse:0.529513+0.000611617\ttest-rmse:0.542826+0.00384684\n",
            "[300]\ttrain-rmse:0.467583+0.000800717\ttest-rmse:0.488553+0.003115\n",
            "[400]\ttrain-rmse:0.455048+0.000914477\ttest-rmse:0.480634+0.00279295\n",
            "[500]\ttrain-rmse:0.451019+0.00082734\ttest-rmse:0.479614+0.00263572\n",
            "[600]\ttrain-rmse:0.44863+0.000894198\ttest-rmse:0.479507+0.00264666\n",
            "max_depth = 10 and min_child_weight = 100\n",
            "[0]\ttrain-rmse:1.93773+0.000769683\ttest-rmse:1.93778+0.00307581\n",
            "[100]\ttrain-rmse:0.837493+0.000502239\ttest-rmse:0.84027+0.00413433\n",
            "[200]\ttrain-rmse:0.533202+0.000605059\ttest-rmse:0.542927+0.00380312\n",
            "[300]\ttrain-rmse:0.473639+0.000697689\ttest-rmse:0.488826+0.00309421\n",
            "[400]\ttrain-rmse:0.462141+0.000882772\ttest-rmse:0.480888+0.00278071\n",
            "[500]\ttrain-rmse:0.458694+0.000875135\ttest-rmse:0.479761+0.00264118\n",
            "[600]\ttrain-rmse:0.456724+0.000962356\ttest-rmse:0.479588+0.00260074\n",
            "max_depth = 10 and min_child_weight = 150\n",
            "[0]\ttrain-rmse:1.93773+0.000769681\ttest-rmse:1.93778+0.00307545\n",
            "[100]\ttrain-rmse:0.837999+0.000466855\ttest-rmse:0.840267+0.00410341\n",
            "[200]\ttrain-rmse:0.535334+0.000491836\ttest-rmse:0.543114+0.00372476\n",
            "[300]\ttrain-rmse:0.476822+0.000543271\ttest-rmse:0.489057+0.00304192\n",
            "[400]\ttrain-rmse:0.465896+0.000664901\ttest-rmse:0.481121+0.0026947\n",
            "[500]\ttrain-rmse:0.46285+0.000614473\ttest-rmse:0.48002+0.00253988\n",
            "[600]\ttrain-rmse:0.461371+0.000783347\ttest-rmse:0.479874+0.00252345\n",
            "[700]\ttrain-rmse:0.460139+0.000864019\ttest-rmse:0.479823+0.00251678\n",
            "max_depth = 10 and min_child_weight = 200\n",
            "[0]\ttrain-rmse:1.93774+0.000764769\ttest-rmse:1.93778+0.00307492\n",
            "[100]\ttrain-rmse:0.838349+0.000467588\ttest-rmse:0.840279+0.00409999\n",
            "[200]\ttrain-rmse:0.536727+0.000492142\ttest-rmse:0.543221+0.00373758\n",
            "[300]\ttrain-rmse:0.47893+0.000487534\ttest-rmse:0.489173+0.00304263\n",
            "[400]\ttrain-rmse:0.468515+0.000491459\ttest-rmse:0.481267+0.00269181\n",
            "[500]\ttrain-rmse:0.465758+0.00042504\ttest-rmse:0.480144+0.00255123\n",
            "[600]\ttrain-rmse:0.464365+0.000520501\ttest-rmse:0.479952+0.00249151\n",
            "max_depth = 10 and min_child_weight = 250\n",
            "[0]\ttrain-rmse:1.93774+0.000764448\ttest-rmse:1.93778+0.00307795\n",
            "[100]\ttrain-rmse:0.838605+0.000465249\ttest-rmse:0.840277+0.00410494\n",
            "[200]\ttrain-rmse:0.537774+0.000489574\ttest-rmse:0.543348+0.00368755\n",
            "[300]\ttrain-rmse:0.480537+0.000549638\ttest-rmse:0.489297+0.00301021\n",
            "[400]\ttrain-rmse:0.470377+0.000507539\ttest-rmse:0.481376+0.00268573\n",
            "[500]\ttrain-rmse:0.467782+0.000519683\ttest-rmse:0.480241+0.00252599\n",
            "[600]\ttrain-rmse:0.466444+0.000500284\ttest-rmse:0.480043+0.00248691\n",
            "[700]\ttrain-rmse:0.465372+0.000574143\ttest-rmse:0.479989+0.00248763\n",
            "max_depth = 11 and min_child_weight = 50\n",
            "[0]\ttrain-rmse:1.93773+0.000770624\ttest-rmse:1.93778+0.00307645\n",
            "[100]\ttrain-rmse:0.83626+0.000516764\ttest-rmse:0.840486+0.00419157\n",
            "[200]\ttrain-rmse:0.527245+0.000592233\ttest-rmse:0.542826+0.00386395\n",
            "[300]\ttrain-rmse:0.46393+0.000800972\ttest-rmse:0.48845+0.00315044\n",
            "[400]\ttrain-rmse:0.450945+0.000870828\ttest-rmse:0.480585+0.00284803\n",
            "[500]\ttrain-rmse:0.446505+0.000918244\ttest-rmse:0.479582+0.00272093\n",
            "[600]\ttrain-rmse:0.443928+0.00107559\ttest-rmse:0.479468+0.00272222\n",
            "max_depth = 11 and min_child_weight = 100\n",
            "[0]\ttrain-rmse:1.93773+0.000770203\ttest-rmse:1.93778+0.00307597\n",
            "[100]\ttrain-rmse:0.837285+0.000502533\ttest-rmse:0.840298+0.00411098\n",
            "[200]\ttrain-rmse:0.531912+0.000580889\ttest-rmse:0.542927+0.00375906\n",
            "[300]\ttrain-rmse:0.471517+0.000658321\ttest-rmse:0.488759+0.00306275\n",
            "[400]\ttrain-rmse:0.459569+0.000845922\ttest-rmse:0.480877+0.00273041\n",
            "[500]\ttrain-rmse:0.456024+0.000986944\ttest-rmse:0.479796+0.00260611\n",
            "[600]\ttrain-rmse:0.453965+0.000955622\ttest-rmse:0.479618+0.00259263\n",
            "max_depth = 11 and min_child_weight = 150\n",
            "[0]\ttrain-rmse:1.93773+0.0007702\ttest-rmse:1.93778+0.00307581\n",
            "[100]\ttrain-rmse:0.837871+0.000475927\ttest-rmse:0.84031+0.00409679\n",
            "[200]\ttrain-rmse:0.534542+0.00048638\ttest-rmse:0.543103+0.00373069\n",
            "[300]\ttrain-rmse:0.475438+0.000487119\ttest-rmse:0.489021+0.00306653\n",
            "[400]\ttrain-rmse:0.464205+0.000660633\ttest-rmse:0.481111+0.002743\n",
            "[500]\ttrain-rmse:0.461008+0.000570192\ttest-rmse:0.479967+0.00260068\n",
            "[600]\ttrain-rmse:0.459415+0.000718385\ttest-rmse:0.479832+0.00257138\n",
            "max_depth = 11 and min_child_weight = 200\n",
            "[0]\ttrain-rmse:1.93774+0.000763787\ttest-rmse:1.93778+0.0030748\n",
            "[100]\ttrain-rmse:0.838263+0.000473762\ttest-rmse:0.840291+0.00408743\n",
            "[200]\ttrain-rmse:0.536191+0.000512197\ttest-rmse:0.543183+0.00372323\n",
            "[300]\ttrain-rmse:0.477982+0.000495436\ttest-rmse:0.489158+0.00305573\n",
            "[400]\ttrain-rmse:0.467231+0.000562867\ttest-rmse:0.481233+0.00272465\n",
            "[500]\ttrain-rmse:0.464263+0.000492276\ttest-rmse:0.480104+0.00257703\n",
            "[600]\ttrain-rmse:0.462839+0.000540281\ttest-rmse:0.479926+0.00255704\n",
            "max_depth = 11 and min_child_weight = 250\n",
            "[0]\ttrain-rmse:1.93774+0.000763465\ttest-rmse:1.93778+0.00307783\n",
            "[100]\ttrain-rmse:0.838551+0.000475322\ttest-rmse:0.840256+0.0041079\n",
            "[200]\ttrain-rmse:0.537385+0.000523181\ttest-rmse:0.543282+0.00367726\n",
            "[300]\ttrain-rmse:0.479791+0.000565102\ttest-rmse:0.489256+0.00304789\n",
            "[400]\ttrain-rmse:0.469369+0.000580836\ttest-rmse:0.481344+0.00270798\n",
            "[500]\ttrain-rmse:0.466632+0.000578455\ttest-rmse:0.480224+0.00258139\n",
            "[600]\ttrain-rmse:0.465218+0.000552217\ttest-rmse:0.480036+0.00256607\n",
            "[700]\ttrain-rmse:0.464201+0.000646334\ttest-rmse:0.480016+0.0025546\n",
            "best parameters (max_depth,min_child_weight) = (11, 50)\n",
            "CV RMSE : 0.47946\n"
          ]
        }
      ]
    },
    {
      "cell_type": "code",
      "source": [
        "params['max_depth'] = 11\n",
        "params['min_child_weight'] = 50\n",
        "params['eta'] = 0.01\n",
        "params"
      ],
      "metadata": {
        "colab": {
          "base_uri": "https://localhost:8080/"
        },
        "id": "Q9iJLflwPCwm",
        "outputId": "ccf92320-5f83-4ba2-ecb6-b383974424dd"
      },
      "execution_count": null,
      "outputs": [
        {
          "output_type": "execute_result",
          "data": {
            "text/plain": [
              "{'colsample_bytree': 0.8,\n",
              " 'eta': 0.01,\n",
              " 'max_depth': 11,\n",
              " 'min_child_weight': 50,\n",
              " 'objective': 'reg:squarederror',\n",
              " 'subsample': 1}"
            ]
          },
          "metadata": {},
          "execution_count": 80
        }
      ]
    },
    {
      "cell_type": "code",
      "source": [
        "tuning(params)"
      ],
      "metadata": {
        "colab": {
          "base_uri": "https://localhost:8080/",
          "height": 545
        },
        "id": "RYrdhYG_PuyN",
        "outputId": "00e37072-f97d-4e38-d060-a8599c3838f5"
      },
      "execution_count": null,
      "outputs": [
        {
          "output_type": "stream",
          "name": "stdout",
          "text": [
            "[0]\ttrain-rmse:1.93773+0.000770624\ttest-rmse:1.93778+0.00307645\n",
            "[100]\ttrain-rmse:0.83626+0.000516764\ttest-rmse:0.840486+0.00419157\n",
            "[200]\ttrain-rmse:0.527245+0.000592233\ttest-rmse:0.542826+0.00386395\n",
            "[300]\ttrain-rmse:0.46393+0.000800972\ttest-rmse:0.48845+0.00315044\n",
            "[400]\ttrain-rmse:0.450945+0.000870828\ttest-rmse:0.480585+0.00284803\n",
            "[500]\ttrain-rmse:0.446505+0.000918244\ttest-rmse:0.479582+0.00272093\n",
            "[600]\ttrain-rmse:0.443928+0.00107559\ttest-rmse:0.479468+0.00272222\n"
          ]
        },
        {
          "output_type": "execute_result",
          "data": {
            "text/html": [
              "\n",
              "  <div id=\"df-ceceea48-afb5-4b64-84fe-7d0ec97348e0\">\n",
              "    <div class=\"colab-df-container\">\n",
              "      <div>\n",
              "<style scoped>\n",
              "    .dataframe tbody tr th:only-of-type {\n",
              "        vertical-align: middle;\n",
              "    }\n",
              "\n",
              "    .dataframe tbody tr th {\n",
              "        vertical-align: top;\n",
              "    }\n",
              "\n",
              "    .dataframe thead th {\n",
              "        text-align: right;\n",
              "    }\n",
              "</style>\n",
              "<table border=\"1\" class=\"dataframe\">\n",
              "  <thead>\n",
              "    <tr style=\"text-align: right;\">\n",
              "      <th></th>\n",
              "      <th>train-rmse-mean</th>\n",
              "      <th>train-rmse-std</th>\n",
              "      <th>test-rmse-mean</th>\n",
              "      <th>test-rmse-std</th>\n",
              "    </tr>\n",
              "  </thead>\n",
              "  <tbody>\n",
              "    <tr>\n",
              "      <th>0</th>\n",
              "      <td>1.937733</td>\n",
              "      <td>0.000771</td>\n",
              "      <td>1.937778</td>\n",
              "      <td>0.003076</td>\n",
              "    </tr>\n",
              "    <tr>\n",
              "      <th>1</th>\n",
              "      <td>1.919606</td>\n",
              "      <td>0.000747</td>\n",
              "      <td>1.919634</td>\n",
              "      <td>0.003088</td>\n",
              "    </tr>\n",
              "    <tr>\n",
              "      <th>2</th>\n",
              "      <td>1.901666</td>\n",
              "      <td>0.000733</td>\n",
              "      <td>1.901688</td>\n",
              "      <td>0.003114</td>\n",
              "    </tr>\n",
              "    <tr>\n",
              "      <th>3</th>\n",
              "      <td>1.883909</td>\n",
              "      <td>0.000737</td>\n",
              "      <td>1.883937</td>\n",
              "      <td>0.003132</td>\n",
              "    </tr>\n",
              "    <tr>\n",
              "      <th>4</th>\n",
              "      <td>1.866307</td>\n",
              "      <td>0.000745</td>\n",
              "      <td>1.866373</td>\n",
              "      <td>0.003143</td>\n",
              "    </tr>\n",
              "    <tr>\n",
              "      <th>...</th>\n",
              "      <td>...</td>\n",
              "      <td>...</td>\n",
              "      <td>...</td>\n",
              "      <td>...</td>\n",
              "    </tr>\n",
              "    <tr>\n",
              "      <th>587</th>\n",
              "      <td>0.444244</td>\n",
              "      <td>0.001049</td>\n",
              "      <td>0.479465</td>\n",
              "      <td>0.002717</td>\n",
              "    </tr>\n",
              "    <tr>\n",
              "      <th>588</th>\n",
              "      <td>0.444218</td>\n",
              "      <td>0.001051</td>\n",
              "      <td>0.479464</td>\n",
              "      <td>0.002716</td>\n",
              "    </tr>\n",
              "    <tr>\n",
              "      <th>589</th>\n",
              "      <td>0.444189</td>\n",
              "      <td>0.001047</td>\n",
              "      <td>0.479462</td>\n",
              "      <td>0.002713</td>\n",
              "    </tr>\n",
              "    <tr>\n",
              "      <th>590</th>\n",
              "      <td>0.444172</td>\n",
              "      <td>0.001051</td>\n",
              "      <td>0.479462</td>\n",
              "      <td>0.002713</td>\n",
              "    </tr>\n",
              "    <tr>\n",
              "      <th>591</th>\n",
              "      <td>0.444128</td>\n",
              "      <td>0.001059</td>\n",
              "      <td>0.479460</td>\n",
              "      <td>0.002716</td>\n",
              "    </tr>\n",
              "  </tbody>\n",
              "</table>\n",
              "<p>592 rows × 4 columns</p>\n",
              "</div>\n",
              "      <button class=\"colab-df-convert\" onclick=\"convertToInteractive('df-ceceea48-afb5-4b64-84fe-7d0ec97348e0')\"\n",
              "              title=\"Convert this dataframe to an interactive table.\"\n",
              "              style=\"display:none;\">\n",
              "        \n",
              "  <svg xmlns=\"http://www.w3.org/2000/svg\" height=\"24px\"viewBox=\"0 0 24 24\"\n",
              "       width=\"24px\">\n",
              "    <path d=\"M0 0h24v24H0V0z\" fill=\"none\"/>\n",
              "    <path d=\"M18.56 5.44l.94 2.06.94-2.06 2.06-.94-2.06-.94-.94-2.06-.94 2.06-2.06.94zm-11 1L8.5 8.5l.94-2.06 2.06-.94-2.06-.94L8.5 2.5l-.94 2.06-2.06.94zm10 10l.94 2.06.94-2.06 2.06-.94-2.06-.94-.94-2.06-.94 2.06-2.06.94z\"/><path d=\"M17.41 7.96l-1.37-1.37c-.4-.4-.92-.59-1.43-.59-.52 0-1.04.2-1.43.59L10.3 9.45l-7.72 7.72c-.78.78-.78 2.05 0 2.83L4 21.41c.39.39.9.59 1.41.59.51 0 1.02-.2 1.41-.59l7.78-7.78 2.81-2.81c.8-.78.8-2.07 0-2.86zM5.41 20L4 18.59l7.72-7.72 1.47 1.35L5.41 20z\"/>\n",
              "  </svg>\n",
              "      </button>\n",
              "      \n",
              "  <style>\n",
              "    .colab-df-container {\n",
              "      display:flex;\n",
              "      flex-wrap:wrap;\n",
              "      gap: 12px;\n",
              "    }\n",
              "\n",
              "    .colab-df-convert {\n",
              "      background-color: #E8F0FE;\n",
              "      border: none;\n",
              "      border-radius: 50%;\n",
              "      cursor: pointer;\n",
              "      display: none;\n",
              "      fill: #1967D2;\n",
              "      height: 32px;\n",
              "      padding: 0 0 0 0;\n",
              "      width: 32px;\n",
              "    }\n",
              "\n",
              "    .colab-df-convert:hover {\n",
              "      background-color: #E2EBFA;\n",
              "      box-shadow: 0px 1px 2px rgba(60, 64, 67, 0.3), 0px 1px 3px 1px rgba(60, 64, 67, 0.15);\n",
              "      fill: #174EA6;\n",
              "    }\n",
              "\n",
              "    [theme=dark] .colab-df-convert {\n",
              "      background-color: #3B4455;\n",
              "      fill: #D2E3FC;\n",
              "    }\n",
              "\n",
              "    [theme=dark] .colab-df-convert:hover {\n",
              "      background-color: #434B5C;\n",
              "      box-shadow: 0px 1px 3px 1px rgba(0, 0, 0, 0.15);\n",
              "      filter: drop-shadow(0px 1px 2px rgba(0, 0, 0, 0.3));\n",
              "      fill: #FFFFFF;\n",
              "    }\n",
              "  </style>\n",
              "\n",
              "      <script>\n",
              "        const buttonEl =\n",
              "          document.querySelector('#df-ceceea48-afb5-4b64-84fe-7d0ec97348e0 button.colab-df-convert');\n",
              "        buttonEl.style.display =\n",
              "          google.colab.kernel.accessAllowed ? 'block' : 'none';\n",
              "\n",
              "        async function convertToInteractive(key) {\n",
              "          const element = document.querySelector('#df-ceceea48-afb5-4b64-84fe-7d0ec97348e0');\n",
              "          const dataTable =\n",
              "            await google.colab.kernel.invokeFunction('convertToInteractive',\n",
              "                                                     [key], {});\n",
              "          if (!dataTable) return;\n",
              "\n",
              "          const docLinkHtml = 'Like what you see? Visit the ' +\n",
              "            '<a target=\"_blank\" href=https://colab.research.google.com/notebooks/data_table.ipynb>data table notebook</a>'\n",
              "            + ' to learn more about interactive tables.';\n",
              "          element.innerHTML = '';\n",
              "          dataTable['output_type'] = 'display_data';\n",
              "          await google.colab.output.renderOutput(dataTable, element);\n",
              "          const docLink = document.createElement('div');\n",
              "          docLink.innerHTML = docLinkHtml;\n",
              "          element.appendChild(docLink);\n",
              "        }\n",
              "      </script>\n",
              "    </div>\n",
              "  </div>\n",
              "  "
            ],
            "text/plain": [
              "     train-rmse-mean  train-rmse-std  test-rmse-mean  test-rmse-std\n",
              "0           1.937733        0.000771        1.937778       0.003076\n",
              "1           1.919606        0.000747        1.919634       0.003088\n",
              "2           1.901666        0.000733        1.901688       0.003114\n",
              "3           1.883909        0.000737        1.883937       0.003132\n",
              "4           1.866307        0.000745        1.866373       0.003143\n",
              "..               ...             ...             ...            ...\n",
              "587         0.444244        0.001049        0.479465       0.002717\n",
              "588         0.444218        0.001051        0.479464       0.002716\n",
              "589         0.444189        0.001047        0.479462       0.002713\n",
              "590         0.444172        0.001051        0.479462       0.002713\n",
              "591         0.444128        0.001059        0.479460       0.002716\n",
              "\n",
              "[592 rows x 4 columns]"
            ]
          },
          "metadata": {},
          "execution_count": 81
        }
      ]
    },
    {
      "cell_type": "markdown",
      "source": [
        "colsample_bytree, subsample"
      ],
      "metadata": {
        "id": "tNDJBtyJZrlj"
      }
    },
    {
      "cell_type": "code",
      "source": [
        "colsam = [0.5,0.8]\n",
        "subsam = [0.5,0.8,1]\n",
        "\n",
        "l = None; par = None\n",
        "for c in colsam:\n",
        "    #updating the colsample_bytree\n",
        "    params['colsample_bytree'] = c\n",
        "    for s in subsam:\n",
        "        #updating the subsample\n",
        "        print('colsample_bytree = {} and subsample = {}'.format(c,s))\n",
        "        params['subsample'] = s\n",
        "        result = tuning(params)\n",
        "        if l!=None:\n",
        "            if result['test-rmse-mean'].min() < l:\n",
        "                l = result['test-rmse-mean'].min()\n",
        "                par = (c,s)\n",
        "        else:\n",
        "            l = result['test-rmse-mean'].min()\n",
        "            par = (c,s)\n",
        "\n",
        "#best parameters\n",
        "print('best parameters (colsample_bytree,subsample) = {}'.format(par))\n",
        "print('CV RMSE :', l)\n",
        "\n"
      ],
      "metadata": {
        "colab": {
          "base_uri": "https://localhost:8080/"
        },
        "id": "4SXy4JquZk7q",
        "outputId": "0acbd269-53dd-47dc-876b-8262eb975ae1"
      },
      "execution_count": null,
      "outputs": [
        {
          "output_type": "stream",
          "name": "stdout",
          "text": [
            "colsample_bytree = 0.5 and subsample = 0.5\n",
            "[0]\ttrain-rmse:1.93779+0.000766432\ttest-rmse:1.93783+0.00308555\n",
            "[100]\ttrain-rmse:0.840208+0.000532248\ttest-rmse:0.842005+0.00407718\n",
            "[200]\ttrain-rmse:0.536371+0.000616583\ttest-rmse:0.544255+0.00370834\n",
            "[300]\ttrain-rmse:0.475583+0.000666949\ttest-rmse:0.489242+0.00299429\n",
            "[400]\ttrain-rmse:0.462867+0.000696694\ttest-rmse:0.480951+0.00265174\n",
            "[500]\ttrain-rmse:0.45808+0.000654451\ttest-rmse:0.479663+0.00254457\n",
            "[600]\ttrain-rmse:0.45478+0.000599061\ttest-rmse:0.479478+0.00247502\n",
            "colsample_bytree = 0.5 and subsample = 0.8\n",
            "[0]\ttrain-rmse:1.93779+0.000758748\ttest-rmse:1.93782+0.0030827\n",
            "[100]\ttrain-rmse:0.839051+0.000569308\ttest-rmse:0.841523+0.00406085\n",
            "[200]\ttrain-rmse:0.532958+0.000667966\ttest-rmse:0.543632+0.00368077\n",
            "[300]\ttrain-rmse:0.470527+0.000662657\ttest-rmse:0.488744+0.00302201\n",
            "[400]\ttrain-rmse:0.456842+0.000675721\ttest-rmse:0.480543+0.0026744\n",
            "[500]\ttrain-rmse:0.451564+0.000677359\ttest-rmse:0.479303+0.00253368\n",
            "[600]\ttrain-rmse:0.448194+0.000644794\ttest-rmse:0.479108+0.00253059\n",
            "colsample_bytree = 0.5 and subsample = 1\n",
            "[0]\ttrain-rmse:1.9378+0.000757281\ttest-rmse:1.93782+0.00307419\n",
            "[100]\ttrain-rmse:0.838249+0.00059576\ttest-rmse:0.841166+0.00405331\n",
            "[200]\ttrain-rmse:0.531256+0.000744169\ttest-rmse:0.543364+0.00369051\n",
            "[300]\ttrain-rmse:0.468059+0.000897014\ttest-rmse:0.488571+0.00302238\n",
            "[400]\ttrain-rmse:0.454081+0.00107266\ttest-rmse:0.480423+0.0026848\n",
            "[500]\ttrain-rmse:0.44862+0.000972985\ttest-rmse:0.479259+0.00256073\n",
            "[600]\ttrain-rmse:0.445286+0.000990706\ttest-rmse:0.479091+0.00251126\n",
            "colsample_bytree = 0.8 and subsample = 0.5\n",
            "[0]\ttrain-rmse:1.93774+0.000761649\ttest-rmse:1.93778+0.00307013\n",
            "[100]\ttrain-rmse:0.838603+0.00054842\ttest-rmse:0.841222+0.00407252\n",
            "[200]\ttrain-rmse:0.533249+0.000573806\ttest-rmse:0.54343+0.00369246\n",
            "[300]\ttrain-rmse:0.471838+0.000670574\ttest-rmse:0.488692+0.00303789\n",
            "[400]\ttrain-rmse:0.45895+0.000716489\ttest-rmse:0.480652+0.00271319\n",
            "[500]\ttrain-rmse:0.454032+0.000823071\ttest-rmse:0.479483+0.00257574\n",
            "[600]\ttrain-rmse:0.450343+0.000786404\ttest-rmse:0.47936+0.00257283\n",
            "colsample_bytree = 0.8 and subsample = 0.8\n",
            "[0]\ttrain-rmse:1.93775+0.000762385\ttest-rmse:1.93777+0.00307579\n",
            "[100]\ttrain-rmse:0.837086+0.000542588\ttest-rmse:0.840693+0.0040568\n",
            "[200]\ttrain-rmse:0.529186+0.000614554\ttest-rmse:0.542855+0.00370724\n",
            "[300]\ttrain-rmse:0.466171+0.000669092\ttest-rmse:0.488312+0.00300176\n",
            "[400]\ttrain-rmse:0.452682+0.000813026\ttest-rmse:0.480315+0.00266058\n",
            "[500]\ttrain-rmse:0.447668+0.000882313\ttest-rmse:0.479235+0.00257802\n",
            "[600]\ttrain-rmse:0.44434+0.000891888\ttest-rmse:0.479132+0.00254191\n",
            "colsample_bytree = 0.8 and subsample = 1\n",
            "[0]\ttrain-rmse:1.93773+0.000770624\ttest-rmse:1.93778+0.00307645\n",
            "[100]\ttrain-rmse:0.83626+0.000516764\ttest-rmse:0.840486+0.00419157\n",
            "[200]\ttrain-rmse:0.527245+0.000592233\ttest-rmse:0.542826+0.00386395\n",
            "[300]\ttrain-rmse:0.46393+0.000800972\ttest-rmse:0.48845+0.00315044\n",
            "[400]\ttrain-rmse:0.450945+0.000870828\ttest-rmse:0.480585+0.00284803\n",
            "[500]\ttrain-rmse:0.446505+0.000918244\ttest-rmse:0.479582+0.00272093\n",
            "[600]\ttrain-rmse:0.443928+0.00107559\ttest-rmse:0.479468+0.00272222\n",
            "best parameters (colsample_bytree,subsample) = (0.5, 0.8)\n",
            "CV RMSE : 0.47908080000000003\n"
          ]
        }
      ]
    },
    {
      "cell_type": "code",
      "source": [
        "params['colsample_bytree'] = 0.5\n",
        "params['subsample'] = 0.8\n",
        "params"
      ],
      "metadata": {
        "colab": {
          "base_uri": "https://localhost:8080/"
        },
        "id": "zhmn9PjWZk5i",
        "outputId": "9659a3db-5712-4d41-a9b8-b097e9652be2"
      },
      "execution_count": null,
      "outputs": [
        {
          "output_type": "execute_result",
          "data": {
            "text/plain": [
              "{'colsample_bytree': 0.5,\n",
              " 'eta': 0.01,\n",
              " 'max_depth': 11,\n",
              " 'min_child_weight': 50,\n",
              " 'objective': 'reg:squarederror',\n",
              " 'subsample': 0.8}"
            ]
          },
          "metadata": {},
          "execution_count": 86
        }
      ]
    },
    {
      "cell_type": "code",
      "source": [
        "tuning(params)"
      ],
      "metadata": {
        "colab": {
          "base_uri": "https://localhost:8080/",
          "height": 545
        },
        "id": "5OLHz2pqZk22",
        "outputId": "ee3854a6-a9e4-4346-867f-0cf15d26e0ea"
      },
      "execution_count": null,
      "outputs": [
        {
          "output_type": "stream",
          "name": "stdout",
          "text": [
            "[0]\ttrain-rmse:1.93779+0.000758748\ttest-rmse:1.93782+0.0030827\n",
            "[100]\ttrain-rmse:0.839051+0.000569308\ttest-rmse:0.841523+0.00406085\n",
            "[200]\ttrain-rmse:0.532958+0.000667966\ttest-rmse:0.543632+0.00368077\n",
            "[300]\ttrain-rmse:0.470527+0.000662657\ttest-rmse:0.488744+0.00302201\n",
            "[400]\ttrain-rmse:0.456842+0.000675721\ttest-rmse:0.480543+0.0026744\n",
            "[500]\ttrain-rmse:0.451564+0.000677359\ttest-rmse:0.479303+0.00253368\n",
            "[600]\ttrain-rmse:0.448194+0.000644794\ttest-rmse:0.479108+0.00253059\n"
          ]
        },
        {
          "output_type": "execute_result",
          "data": {
            "text/html": [
              "\n",
              "  <div id=\"df-d43dd8b8-18a1-45af-856a-958e683cbc30\">\n",
              "    <div class=\"colab-df-container\">\n",
              "      <div>\n",
              "<style scoped>\n",
              "    .dataframe tbody tr th:only-of-type {\n",
              "        vertical-align: middle;\n",
              "    }\n",
              "\n",
              "    .dataframe tbody tr th {\n",
              "        vertical-align: top;\n",
              "    }\n",
              "\n",
              "    .dataframe thead th {\n",
              "        text-align: right;\n",
              "    }\n",
              "</style>\n",
              "<table border=\"1\" class=\"dataframe\">\n",
              "  <thead>\n",
              "    <tr style=\"text-align: right;\">\n",
              "      <th></th>\n",
              "      <th>train-rmse-mean</th>\n",
              "      <th>train-rmse-std</th>\n",
              "      <th>test-rmse-mean</th>\n",
              "      <th>test-rmse-std</th>\n",
              "    </tr>\n",
              "  </thead>\n",
              "  <tbody>\n",
              "    <tr>\n",
              "      <th>0</th>\n",
              "      <td>1.937785</td>\n",
              "      <td>0.000759</td>\n",
              "      <td>1.937819</td>\n",
              "      <td>0.003083</td>\n",
              "    </tr>\n",
              "    <tr>\n",
              "      <th>1</th>\n",
              "      <td>1.919661</td>\n",
              "      <td>0.000762</td>\n",
              "      <td>1.919689</td>\n",
              "      <td>0.003087</td>\n",
              "    </tr>\n",
              "    <tr>\n",
              "      <th>2</th>\n",
              "      <td>1.901732</td>\n",
              "      <td>0.000743</td>\n",
              "      <td>1.901743</td>\n",
              "      <td>0.003108</td>\n",
              "    </tr>\n",
              "    <tr>\n",
              "      <th>3</th>\n",
              "      <td>1.884016</td>\n",
              "      <td>0.000741</td>\n",
              "      <td>1.884038</td>\n",
              "      <td>0.003125</td>\n",
              "    </tr>\n",
              "    <tr>\n",
              "      <th>4</th>\n",
              "      <td>1.866457</td>\n",
              "      <td>0.000739</td>\n",
              "      <td>1.866503</td>\n",
              "      <td>0.003149</td>\n",
              "    </tr>\n",
              "    <tr>\n",
              "      <th>...</th>\n",
              "      <td>...</td>\n",
              "      <td>...</td>\n",
              "      <td>...</td>\n",
              "      <td>...</td>\n",
              "    </tr>\n",
              "    <tr>\n",
              "      <th>642</th>\n",
              "      <td>0.446999</td>\n",
              "      <td>0.000643</td>\n",
              "      <td>0.479085</td>\n",
              "      <td>0.002529</td>\n",
              "    </tr>\n",
              "    <tr>\n",
              "      <th>643</th>\n",
              "      <td>0.446976</td>\n",
              "      <td>0.000645</td>\n",
              "      <td>0.479083</td>\n",
              "      <td>0.002530</td>\n",
              "    </tr>\n",
              "    <tr>\n",
              "      <th>644</th>\n",
              "      <td>0.446951</td>\n",
              "      <td>0.000647</td>\n",
              "      <td>0.479082</td>\n",
              "      <td>0.002531</td>\n",
              "    </tr>\n",
              "    <tr>\n",
              "      <th>645</th>\n",
              "      <td>0.446928</td>\n",
              "      <td>0.000641</td>\n",
              "      <td>0.479083</td>\n",
              "      <td>0.002532</td>\n",
              "    </tr>\n",
              "    <tr>\n",
              "      <th>646</th>\n",
              "      <td>0.446906</td>\n",
              "      <td>0.000644</td>\n",
              "      <td>0.479081</td>\n",
              "      <td>0.002534</td>\n",
              "    </tr>\n",
              "  </tbody>\n",
              "</table>\n",
              "<p>647 rows × 4 columns</p>\n",
              "</div>\n",
              "      <button class=\"colab-df-convert\" onclick=\"convertToInteractive('df-d43dd8b8-18a1-45af-856a-958e683cbc30')\"\n",
              "              title=\"Convert this dataframe to an interactive table.\"\n",
              "              style=\"display:none;\">\n",
              "        \n",
              "  <svg xmlns=\"http://www.w3.org/2000/svg\" height=\"24px\"viewBox=\"0 0 24 24\"\n",
              "       width=\"24px\">\n",
              "    <path d=\"M0 0h24v24H0V0z\" fill=\"none\"/>\n",
              "    <path d=\"M18.56 5.44l.94 2.06.94-2.06 2.06-.94-2.06-.94-.94-2.06-.94 2.06-2.06.94zm-11 1L8.5 8.5l.94-2.06 2.06-.94-2.06-.94L8.5 2.5l-.94 2.06-2.06.94zm10 10l.94 2.06.94-2.06 2.06-.94-2.06-.94-.94-2.06-.94 2.06-2.06.94z\"/><path d=\"M17.41 7.96l-1.37-1.37c-.4-.4-.92-.59-1.43-.59-.52 0-1.04.2-1.43.59L10.3 9.45l-7.72 7.72c-.78.78-.78 2.05 0 2.83L4 21.41c.39.39.9.59 1.41.59.51 0 1.02-.2 1.41-.59l7.78-7.78 2.81-2.81c.8-.78.8-2.07 0-2.86zM5.41 20L4 18.59l7.72-7.72 1.47 1.35L5.41 20z\"/>\n",
              "  </svg>\n",
              "      </button>\n",
              "      \n",
              "  <style>\n",
              "    .colab-df-container {\n",
              "      display:flex;\n",
              "      flex-wrap:wrap;\n",
              "      gap: 12px;\n",
              "    }\n",
              "\n",
              "    .colab-df-convert {\n",
              "      background-color: #E8F0FE;\n",
              "      border: none;\n",
              "      border-radius: 50%;\n",
              "      cursor: pointer;\n",
              "      display: none;\n",
              "      fill: #1967D2;\n",
              "      height: 32px;\n",
              "      padding: 0 0 0 0;\n",
              "      width: 32px;\n",
              "    }\n",
              "\n",
              "    .colab-df-convert:hover {\n",
              "      background-color: #E2EBFA;\n",
              "      box-shadow: 0px 1px 2px rgba(60, 64, 67, 0.3), 0px 1px 3px 1px rgba(60, 64, 67, 0.15);\n",
              "      fill: #174EA6;\n",
              "    }\n",
              "\n",
              "    [theme=dark] .colab-df-convert {\n",
              "      background-color: #3B4455;\n",
              "      fill: #D2E3FC;\n",
              "    }\n",
              "\n",
              "    [theme=dark] .colab-df-convert:hover {\n",
              "      background-color: #434B5C;\n",
              "      box-shadow: 0px 1px 3px 1px rgba(0, 0, 0, 0.15);\n",
              "      filter: drop-shadow(0px 1px 2px rgba(0, 0, 0, 0.3));\n",
              "      fill: #FFFFFF;\n",
              "    }\n",
              "  </style>\n",
              "\n",
              "      <script>\n",
              "        const buttonEl =\n",
              "          document.querySelector('#df-d43dd8b8-18a1-45af-856a-958e683cbc30 button.colab-df-convert');\n",
              "        buttonEl.style.display =\n",
              "          google.colab.kernel.accessAllowed ? 'block' : 'none';\n",
              "\n",
              "        async function convertToInteractive(key) {\n",
              "          const element = document.querySelector('#df-d43dd8b8-18a1-45af-856a-958e683cbc30');\n",
              "          const dataTable =\n",
              "            await google.colab.kernel.invokeFunction('convertToInteractive',\n",
              "                                                     [key], {});\n",
              "          if (!dataTable) return;\n",
              "\n",
              "          const docLinkHtml = 'Like what you see? Visit the ' +\n",
              "            '<a target=\"_blank\" href=https://colab.research.google.com/notebooks/data_table.ipynb>data table notebook</a>'\n",
              "            + ' to learn more about interactive tables.';\n",
              "          element.innerHTML = '';\n",
              "          dataTable['output_type'] = 'display_data';\n",
              "          await google.colab.output.renderOutput(dataTable, element);\n",
              "          const docLink = document.createElement('div');\n",
              "          docLink.innerHTML = docLinkHtml;\n",
              "          element.appendChild(docLink);\n",
              "        }\n",
              "      </script>\n",
              "    </div>\n",
              "  </div>\n",
              "  "
            ],
            "text/plain": [
              "     train-rmse-mean  train-rmse-std  test-rmse-mean  test-rmse-std\n",
              "0           1.937785        0.000759        1.937819       0.003083\n",
              "1           1.919661        0.000762        1.919689       0.003087\n",
              "2           1.901732        0.000743        1.901743       0.003108\n",
              "3           1.884016        0.000741        1.884038       0.003125\n",
              "4           1.866457        0.000739        1.866503       0.003149\n",
              "..               ...             ...             ...            ...\n",
              "642         0.446999        0.000643        0.479085       0.002529\n",
              "643         0.446976        0.000645        0.479083       0.002530\n",
              "644         0.446951        0.000647        0.479082       0.002531\n",
              "645         0.446928        0.000641        0.479083       0.002532\n",
              "646         0.446906        0.000644        0.479081       0.002534\n",
              "\n",
              "[647 rows x 4 columns]"
            ]
          },
          "metadata": {},
          "execution_count": 87
        }
      ]
    },
    {
      "cell_type": "markdown",
      "source": [
        "#Final Model with best parameters on test set:"
      ],
      "metadata": {
        "id": "EdTibLSJPRvL"
      }
    },
    {
      "cell_type": "code",
      "source": [
        "dtest = xgb.DMatrix(X_test, label= y_test)\n",
        "\n",
        "f_model = xgb.train(\n",
        "    params,\n",
        "    dtrain,\n",
        "    num_boost_round=2000,\n",
        "    evals=[(dtest, \"Test\")],\n",
        "    early_stopping_rounds=10,\n",
        "    verbose_eval = 100\n",
        ")"
      ],
      "metadata": {
        "colab": {
          "base_uri": "https://localhost:8080/"
        },
        "id": "tPs7nNF4tOPo",
        "outputId": "3759798d-1985-4f33-ab2c-03633f28ac6a"
      },
      "execution_count": null,
      "outputs": [
        {
          "output_type": "stream",
          "name": "stdout",
          "text": [
            "[0]\tTest-rmse:1.93781\n",
            "Will train until Test-rmse hasn't improved in 10 rounds.\n",
            "[100]\tTest-rmse:0.841205\n",
            "[200]\tTest-rmse:0.543594\n",
            "[300]\tTest-rmse:0.488883\n",
            "[400]\tTest-rmse:0.480542\n",
            "[500]\tTest-rmse:0.479298\n",
            "Stopping. Best iteration:\n",
            "[571]\tTest-rmse:0.479064\n",
            "\n"
          ]
        }
      ]
    },
    {
      "cell_type": "markdown",
      "source": [
        "- Retraining the model with best parameters with random state 42."
      ],
      "metadata": {
        "id": "NMzdLO4E3Dni"
      }
    },
    {
      "cell_type": "code",
      "execution_count": null,
      "metadata": {
        "colab": {
          "base_uri": "https://localhost:8080/"
        },
        "outputId": "fbcc783d-1bde-4883-aeef-3abb0c604ff4",
        "id": "IfypK2vV1YCP"
      },
      "outputs": [
        {
          "output_type": "stream",
          "name": "stdout",
          "text": [
            "X_train (59237, 14)\n",
            "X_test (14810, 14)\n"
          ]
        }
      ],
      "source": [
        "#splitting the train data into 80% train 20% test.\n",
        "X_train, X_test, y_train, y_test = train_test_split(X, y, test_size=0.2, stratify = y,random_state= 42)\n",
        "print('X_train',X_train.shape)\n",
        "print('X_test',X_test.shape)"
      ]
    },
    {
      "cell_type": "code",
      "source": [
        "dtrain = xgb.DMatrix(X_train, label= y_train)\n",
        "\n",
        "dtest = xgb.DMatrix(X_test, label= y_test)\n",
        "\n",
        "best_model = xgb.train(\n",
        "    params,\n",
        "    dtrain,\n",
        "    num_boost_round=2000,\n",
        "    evals=[(dtest, \"Test\")],\n",
        "    early_stopping_rounds = 10,\n",
        "    verbose_eval = 100)\n"
      ],
      "metadata": {
        "colab": {
          "base_uri": "https://localhost:8080/"
        },
        "id": "44ICj-uP19jw",
        "outputId": "7fb42607-858d-47da-e4a1-99433b4194e1"
      },
      "execution_count": null,
      "outputs": [
        {
          "output_type": "stream",
          "name": "stdout",
          "text": [
            "[0]\tTest-rmse:1.93779\n",
            "Will train until Test-rmse hasn't improved in 10 rounds.\n",
            "[100]\tTest-rmse:0.841\n",
            "[200]\tTest-rmse:0.543162\n",
            "[300]\tTest-rmse:0.488052\n",
            "[400]\tTest-rmse:0.479676\n",
            "[500]\tTest-rmse:0.478452\n",
            "Stopping. Best iteration:\n",
            "[568]\tTest-rmse:0.478251\n",
            "\n"
          ]
        }
      ]
    },
    {
      "cell_type": "code",
      "source": [
        "# not applying early stopping since we already know the exact num_rounds\n",
        "num_boost_round = best_model.best_iteration + 1\n",
        "best_final_model = xgb.train(\n",
        "    params,\n",
        "    dtrain,\n",
        "    num_boost_round=num_boost_round,\n",
        "    evals=[(dtest, \"Test\")],\n",
        "    verbose_eval = 100)"
      ],
      "metadata": {
        "colab": {
          "base_uri": "https://localhost:8080/"
        },
        "id": "nAcpCD9132g7",
        "outputId": "83810148-3f4c-4ae7-a095-09743d33ad9f"
      },
      "execution_count": null,
      "outputs": [
        {
          "output_type": "stream",
          "name": "stdout",
          "text": [
            "[0]\tTest-rmse:1.93779\n",
            "[100]\tTest-rmse:0.841\n",
            "[200]\tTest-rmse:0.543162\n",
            "[300]\tTest-rmse:0.488052\n",
            "[400]\tTest-rmse:0.479676\n",
            "[500]\tTest-rmse:0.478452\n",
            "[568]\tTest-rmse:0.478251\n"
          ]
        }
      ]
    },
    {
      "cell_type": "markdown",
      "source": [
        "- Cross-checking if the final RMSE score by using the predictions of the best model is same as what we got in the last round."
      ],
      "metadata": {
        "id": "pz0txh2uvvrG"
      }
    },
    {
      "cell_type": "code",
      "source": [
        "best_test_rmse = mean_squared_error(y_test, best_final_model.predict(dtest), squared=False)\n",
        "print ('Best test rmse :', best_test_rmse)"
      ],
      "metadata": {
        "id": "UCHHqf6m2Nhp",
        "colab": {
          "base_uri": "https://localhost:8080/"
        },
        "outputId": "afee456c-f4dc-4383-aa0a-8cd58cf7f8b9"
      },
      "execution_count": null,
      "outputs": [
        {
          "output_type": "stream",
          "name": "stdout",
          "text": [
            "Best test rmse : 0.47825128094477554\n"
          ]
        }
      ]
    },
    {
      "cell_type": "markdown",
      "source": [
        "#Saving the best model"
      ],
      "metadata": {
        "id": "y1egQ8nZwy0W"
      }
    },
    {
      "cell_type": "code",
      "source": [
        "# best_final_model.save_model(\"/content/drive/MyDrive/Thesis data/models/model1.model\")"
      ],
      "metadata": {
        "id": "K3CxunD_w3Mw"
      },
      "execution_count": null,
      "outputs": []
    },
    {
      "cell_type": "code",
      "source": [
        "\n",
        "model1 = xgb.Booster()\n",
        "model1.load_model(\"/content/drive/MyDrive/Thesis data/models/model1.model\")"
      ],
      "metadata": {
        "id": "NxG2eoFbzWz5"
      },
      "execution_count": 7,
      "outputs": []
    },
    {
      "cell_type": "code",
      "source": [
        "train_2 = pd.read_csv('/content/drive/MyDrive/Thesis data/train_updated')\n",
        "train_2.drop(['Unnamed: 0','relevance_binary'],axis = 1, inplace= True)\n",
        "# test_0 = pd.read_csv('/content/drive/MyDrive/Thesis data/test_updated')\n",
        "# test_0.drop(['Unnamed: 0'],axis = 1, inplace= True)\n",
        "\n",
        "y = train_2['relevance']\n",
        "X = train_2.drop('relevance',axis = 1)\n"
      ],
      "metadata": {
        "id": "fYaxVcR67_t4"
      },
      "execution_count": 8,
      "outputs": []
    },
    {
      "cell_type": "code",
      "source": [
        "#splitting the train data into 80% train 20% test.\n",
        "X_train, X_test, y_train, y_test = train_test_split(X, y, test_size=0.2, stratify = y,random_state= 42)\n",
        "print('X_train',X_train.shape)\n",
        "print('X_test',X_test.shape)"
      ],
      "metadata": {
        "id": "GtvEmIyX8ETM",
        "colab": {
          "base_uri": "https://localhost:8080/",
          "height": 0
        },
        "outputId": "aac975bf-1bb1-4657-b35e-d28ea9a3afe5"
      },
      "execution_count": 9,
      "outputs": [
        {
          "output_type": "stream",
          "name": "stdout",
          "text": [
            "X_train (59237, 14)\n",
            "X_test (14810, 14)\n"
          ]
        }
      ]
    },
    {
      "cell_type": "code",
      "source": [
        "dtrain = xgb.DMatrix(X_train, label= y_train)\n",
        "dtest = xgb.DMatrix(X_test, label= y_test)\n",
        "\n",
        "print('train RMSE:',mean_squared_error(y_train, model1.predict(dtrain), squared=False))\n",
        "print('test RMSE:',mean_squared_error(y_test, model1.predict(dtest), squared=False))\n"
      ],
      "metadata": {
        "colab": {
          "base_uri": "https://localhost:8080/",
          "height": 0
        },
        "id": "Zic39bjg67AO",
        "outputId": "6694daef-9f45-45a7-9bc8-f739e2705d5d"
      },
      "execution_count": 10,
      "outputs": [
        {
          "output_type": "stream",
          "name": "stdout",
          "text": [
            "train RMSE: 0.4509890705696461\n",
            "test RMSE: 0.47825128509503684\n"
          ]
        }
      ]
    },
    {
      "cell_type": "markdown",
      "source": [
        "##Feature Importances:"
      ],
      "metadata": {
        "id": "4cGPFV9q1DXf"
      }
    },
    {
      "cell_type": "code",
      "source": [
        "fig, ax = plt.subplots(1,1,figsize=(10,10))\n",
        "xgb.plot_importance(model1, ax=ax)"
      ],
      "metadata": {
        "colab": {
          "base_uri": "https://localhost:8080/",
          "height": 638
        },
        "id": "7ejGnnfPd02y",
        "outputId": "d2a07169-30d0-4b9b-e9fb-72cb6537d52c"
      },
      "execution_count": 12,
      "outputs": [
        {
          "output_type": "execute_result",
          "data": {
            "text/plain": [
              "<matplotlib.axes._subplots.AxesSubplot at 0x7fef8df1abd0>"
            ]
          },
          "metadata": {},
          "execution_count": 12
        },
        {
          "output_type": "display_data",
          "data": {
            "image/png": "[encoded data removed]",
            "text/plain": [
              "<Figure size 720x720 with 1 Axes>"
            ]
          },
          "metadata": {
            "needs_background": "light"
          }
        }
      ]
    }
  ],
  "metadata": {
    "colab": {
      "collapsed_sections": [
        "aVbPssCvUqyq",
        "eI28ahpjAPJl",
        "m02LLUE2LI2D",
        "EdTibLSJPRvL",
        "y1egQ8nZwy0W"
      ],
      "name": "Phase-3-Modelling.ipynb",
      "provenance": []
    },
    "kernelspec": {
      "display_name": "Python 3",
      "name": "python3"
    },
    "language_info": {
      "name": "python"
    }
  },
  "nbformat": 4,
  "nbformat_minor": 0
}